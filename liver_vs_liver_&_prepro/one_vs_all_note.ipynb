{
 "cells": [
  {
   "cell_type": "code",
   "id": "initial_id",
   "metadata": {
    "collapsed": true,
    "ExecuteTime": {
     "end_time": "2025-03-18T10:10:16.763114Z",
     "start_time": "2025-03-18T10:10:16.660769Z"
    }
   },
   "source": [
    "# Load the results DataFrame\n",
    "import pandas as pd\n",
    "import tqdm\n",
    "\n",
    "# gene_matrix_no_gene_transposed = pd.read_csv('/Users/hilleldravish/Library/CloudStorage/GoogleDrive-darvish.hillel@mail.huji.ac.il/My Drive/CBIO-HACK/Data/CleanUp/cleaned_llb_matrix.csv')\n",
    "\n",
    "\n",
    "results_df = pd.read_csv('../feature_selection/sick_vs_sick/sick_sick_feature_genes.csv')\n",
    "\n",
    "# Sort by the lowest p-values\n",
    "sorted_results = results_df.sort_values('P_value').head(100)\n",
    "print(sorted_results)\n",
    "# Prepare data for plotting\n",
    "selected_genes = sorted_results['Gene'].unique()"
   ],
   "outputs": [
    {
     "name": "stdout",
     "output_type": "stream",
     "text": [
      "           Gene    Comparison   KS_stat   P_value  Adjusted_P_value\n",
      "24685    POLR1E  MASH vs Rest  0.544872  0.000006          0.337500\n",
      "17372    ZNF165   AIH vs Rest  0.562409  0.000013          0.351592\n",
      "50932   SLC37A1  MASH vs Rest  0.518590  0.000024          0.436395\n",
      "10807      BTLA  MASH vs Rest  0.494872  0.000056          0.460728\n",
      "51947  APOBEC3H   AIH vs Rest  0.523948  0.000068          0.460728\n",
      "...         ...           ...       ...       ...               ...\n",
      "46910    GAPDHS   AIH vs Rest  0.446299  0.001291          0.677061\n",
      "13944    PRMT10   PBC vs Rest  0.555944  0.001298          0.677061\n",
      "17118     KAAG1   PBC vs Rest  0.555944  0.001298          0.677061\n",
      "32729     KRT80   AIH vs Rest  0.445573  0.001342          0.677061\n",
      "50929   UBASH3A  MASH vs Rest  0.417308  0.001360          0.677061\n",
      "\n",
      "[100 rows x 5 columns]\n"
     ]
    }
   ],
   "execution_count": 24
  },
  {
   "metadata": {
    "ExecuteTime": {
     "end_time": "2025-03-18T10:10:20.214503Z",
     "start_time": "2025-03-18T10:10:20.205438Z"
    }
   },
   "cell_type": "code",
   "source": [
    "print(selected_genes)\n",
    "\n",
    "comparisons = sorted_results['Comparison'].unique()"
   ],
   "id": "a39df81f6cabc078",
   "outputs": [
    {
     "name": "stdout",
     "output_type": "stream",
     "text": [
      "['POLR1E' 'ZNF165' 'SLC37A1' 'BTLA' 'APOBEC3H' 'APOL4' 'RTN1' 'IKBKE'\n",
      " 'SLC46A1' 'SMYD5' 'SKIL' 'PHB2' 'EMG1' 'C11orf73' 'CD27' 'AKAP8L'\n",
      " 'CYP7A1' 'HMGN3' 'ZKSCAN8' 'BCL9L' 'PARP1' 'HRASLS5' 'PDCD1' 'TCP11L2'\n",
      " 'RARRES3' 'FDXR' 'ZHX1' 'C15orf54' 'CMTM6' 'TIGIT' 'SEC14L2' 'INTS4'\n",
      " 'ASPRV1' 'SLC27A1' 'IL7R' 'PER3' 'EYA2' 'ZNF99' 'ACHE' 'HAO2' 'ENTPD8'\n",
      " 'PARD6G' 'WBSCR27' 'COPZ1' 'PTPRCAP' 'FGF21' 'ZNF69' 'RAB9B' 'SMAD3'\n",
      " 'IFNG' 'CD3G' 'CEACAM1' 'CD3D' 'LY9' 'LECT2' 'IL12RB1' 'CXCL11' 'SYAP1'\n",
      " 'SERAC1' 'ATP1A1' 'MGARP' 'CD47' 'GTF2H5' 'NCBP2' 'CXCL5' 'CNP' 'SMCR7L'\n",
      " 'S100A2' 'USP22' 'CARHSP1' 'WRB' 'TBXAS1' 'UPK2' 'ZNF491' 'RAC3' 'TRIM55'\n",
      " 'ST3GAL5' 'VSTM2B' 'HLA-DOB' 'FOXP3' 'SYNPO2L' 'HP' 'FHL1' 'PMM2'\n",
      " 'PDGFRA' 'SLC35C2' 'ARFGEF2' 'PACSIN1' 'SLC25A22' 'UGT1A9' 'GAPDHS'\n",
      " 'PRMT10' 'KAAG1' 'KRT80' 'UBASH3A']\n"
     ]
    }
   ],
   "execution_count": 25
  },
  {
   "metadata": {
    "ExecuteTime": {
     "end_time": "2025-03-18T10:10:29.454549Z",
     "start_time": "2025-03-18T10:10:22.539084Z"
    }
   },
   "cell_type": "code",
   "source": [
    "import pandas as pd\n",
    "from sklearn.linear_model import LogisticRegression\n",
    "from sklearn.ensemble import VotingClassifier\n",
    "from sklearn.model_selection import train_test_split\n",
    "from sklearn.metrics import classification_report\n",
    "\n",
    "# Load data\n",
    "# gene_matrix = pd.read_csv('/Users/hilleldravish/Library/CloudStorage/GoogleDrive-darvish.hillel@mail.huji.ac.il/My Drive/CBIO-HACK/Data/CleanUp/cleaned_llb_matrix.csv')\n",
    "\n",
    "\n",
    "from sklearn.utils import resample\n",
    "import pandas as pd\n",
    "\n",
    "# Load the data\n",
    "gene_matrix_no_gene_transposed = pd.read_csv(\n",
    "    '/Users/hilleldravish/Library/CloudStorage/GoogleDrive-darvish.hillel@mail.huji.ac.il/My Drive/CBIO-HACK/Data/CleanUp/cleaned_llb_matrix.csv'\n",
    ")\n",
    "\n",
    "# Group by the 'Diagnosis' column\n",
    "groups = gene_matrix_no_gene_transposed.groupby('Diagnosis')\n",
    "\n",
    "# Find the size of the smallest group (minimum class size)\n",
    "min_size = groups.size().min()\n",
    "\n",
    "# Downsample each group to match the size of the smallest group, without replacement\n",
    "downsampled_groups = [\n",
    "    group.sample(n=min_size, random_state=10, replace=False) if len(group) > min_size else group\n",
    "    for _, group in groups\n",
    "]\n",
    "\n",
    "# Concatenate the downsampled groups\n",
    "balanced_data = pd.concat(downsampled_groups)\n",
    "\n",
    "# Shuffle the balanced data\n",
    "#balanced_data = balanced_data.sample(frac=1, random_state=10).reset_index(drop=True)\n",
    "\n",
    "# Output the result\n",
    "print(balanced_data['Diagnosis'])\n",
    "\n",
    "\n",
    "gene_matrix = balanced_data\n",
    "\n",
    "results_df = pd.read_csv('../feature_selection/sick_vs_sick/sick_sick_feature_genes.csv')\n",
    "\n",
    "# Step 1: Associate genes with comparisons\n",
    "sorted_results = results_df.sort_values('P_value').head(35)\n",
    "selected_genes = sorted_results['Gene'].unique()\n",
    "comparisons = sorted_results['Comparison'].unique()\n",
    "\n"
   ],
   "id": "b64313d6d114f365",
   "outputs": [
    {
     "name": "stdout",
     "output_type": "stream",
     "text": [
      "60     AIH\n",
      "22     AIH\n",
      "45     AIH\n",
      "28     AIH\n",
      "6      AIH\n",
      "11     AIH\n",
      "34     AIH\n",
      "70     AIH\n",
      "43     AIH\n",
      "39     AIH\n",
      "62     AIH\n",
      "12     AIH\n",
      "72     AIH\n",
      "5     MASH\n",
      "52    MASH\n",
      "67    MASH\n",
      "56    MASH\n",
      "26    MASH\n",
      "24    MASH\n",
      "14    MASH\n",
      "49    MASH\n",
      "59    MASH\n",
      "20    MASH\n",
      "10    MASH\n",
      "13    MASH\n",
      "7     MASH\n",
      "0      PBC\n",
      "3      PBC\n",
      "8      PBC\n",
      "17     PBC\n",
      "25     PBC\n",
      "35     PBC\n",
      "36     PBC\n",
      "37     PBC\n",
      "38     PBC\n",
      "61     PBC\n",
      "71     PBC\n",
      "73     PBC\n",
      "74     PBC\n",
      "Name: Diagnosis, dtype: object\n"
     ]
    }
   ],
   "execution_count": 26
  },
  {
   "metadata": {
    "ExecuteTime": {
     "end_time": "2025-03-16T15:44:12.456695Z",
     "start_time": "2025-03-16T15:44:12.449765Z"
    }
   },
   "cell_type": "code",
   "source": [
    "# Create a dictionary mapping comparisons to their associated genes\n",
    "comparison_gene_map = {\n",
    "    comparison: sorted_results[sorted_results['Comparison'] == comparison]['Gene'].unique()\n",
    "    for comparison in comparisons\n",
    "}"
   ],
   "id": "b36056a1921ea848",
   "outputs": [],
   "execution_count": 6
  },
  {
   "metadata": {
    "ExecuteTime": {
     "end_time": "2025-03-16T15:44:14.226660Z",
     "start_time": "2025-03-16T15:44:14.013930Z"
    }
   },
   "cell_type": "code",
   "source": [
    "from sklearn.linear_model import LogisticRegression\n",
    "from sklearn.model_selection import train_test_split\n",
    "from sklearn.metrics import classification_report\n",
    "import numpy as np\n",
    "\n",
    "# Assign labels based on target class\n",
    "labels = gene_matrix['Diagnosis']  # Assuming 'Diagnosis' is the column with target labels\n",
    "\n",
    "# Extract relevant features\n",
    "features = gene_matrix[selected_genes]\n",
    "\n",
    "# Split into train/test sets\n",
    "X_train, X_test, y_train, y_test = train_test_split(features, labels, test_size=0.4, random_state=10)\n",
    "\n",
    "# Group by diagnosis\n",
    "groups = features.groupby(labels)\n",
    "\n",
    "# Split 75% for training and 25% for testing per diagnosis\n",
    "X_train_list, X_test_list, y_train_list, y_test_list = [], [], [], []\n",
    "\n",
    "for diagnosis, group in groups:\n",
    "    # Corresponding labels\n",
    "    group_labels = labels.loc[group.index]\n",
    "    \n",
    "    # Calculate the split sizes\n",
    "    train_size = int(len(group) * 0.8)\n",
    "    \n",
    "    # Split the group\n",
    "    X_tr = group.sample(n=train_size, random_state=10, replace=False)\n",
    "    X_te = group.drop(X_tr.index) \n",
    "    \n",
    "    y_tr = group_labels.loc[X_tr.index]\n",
    "    y_te = group_labels.loc[X_te.index]\n",
    "    \n",
    "    # Store results\n",
    "    X_train_list.append(X_tr)\n",
    "    X_test_list.append(X_te)\n",
    "    y_train_list.append(y_tr)\n",
    "    y_test_list.append(y_te)\n",
    "\n",
    "# Concatenate all groups to form the final train and test sets\n",
    "X_train = pd.concat(X_train_list).sample(frac=1, random_state=10).reset_index(drop=True)\n",
    "X_test = pd.concat(X_test_list).sample(frac=1, random_state=10).reset_index(drop=True)\n",
    "y_train = pd.concat(y_train_list).sample(frac=1, random_state=10).reset_index(drop=True)\n",
    "y_test = pd.concat(y_test_list).sample(frac=1, random_state=10).reset_index(drop=True)\n",
    "\n",
    "# Output the class distribution\n",
    "print(y_train.value_counts())\n",
    "print(y_test.value_counts())\n",
    "\n",
    "\n",
    "\n",
    "print(y_test, y_train)\n",
    "\n",
    "models = []\n",
    "\n",
    "for comparison, genes in comparison_gene_map.items():\n",
    "    print(f\"Training model for {comparison} with genes: {genes}\")\n",
    "\n",
    "    # Split comparison string into target and rest (e.g., \"MASH vs Rest\" -> \"MASH\" and \"Rest\")\n",
    "    target_class = comparison.split(' vs ')[0]\n",
    "\n",
    "    # Prepare binary labels for the current comparison\n",
    "    subyTrain = np.where(y_train == target_class, 1, 0)  # 1 for target class, 0 for rest\n",
    "    subyTest = np.where(y_test == target_class, 1, 0)    # 1 for target class, 0 for rest\n",
    "\n",
    "    # Train logistic regression\n",
    "    model = LogisticRegression(max_iter=5000)\n",
    "    subTrain = X_train[genes]\n",
    "    model.fit(subTrain, subyTrain)\n",
    "\n",
    "    # Save the model for the ensemble\n",
    "    models.append((comparison, model))\n",
    "\n",
    "    # Evaluate the model\n",
    "    subTest = X_test[genes]\n",
    "    y_pred = model.predict(subTest)\n",
    "\n",
    "    print(f\"Classification report for {comparison}:\")\n",
    "    print(classification_report(subyTest, y_pred))\n"
   ],
   "id": "132e965d2cca0bb4",
   "outputs": [
    {
     "name": "stdout",
     "output_type": "stream",
     "text": [
      "Diagnosis\n",
      "AIH     9\n",
      "PBC     9\n",
      "MASH    9\n",
      "Name: count, dtype: int64\n",
      "Diagnosis\n",
      "PBC     3\n",
      "AIH     3\n",
      "MASH    3\n",
      "Name: count, dtype: int64\n",
      "0     PBC\n",
      "1     AIH\n",
      "2    MASH\n",
      "3     PBC\n",
      "4    MASH\n",
      "5     AIH\n",
      "6     AIH\n",
      "7     PBC\n",
      "8    MASH\n",
      "Name: Diagnosis, dtype: object 0      AIH\n",
      "1      AIH\n",
      "2      PBC\n",
      "3      PBC\n",
      "4     MASH\n",
      "5      AIH\n",
      "6      AIH\n",
      "7     MASH\n",
      "8      PBC\n",
      "9     MASH\n",
      "10    MASH\n",
      "11     PBC\n",
      "12     AIH\n",
      "13     PBC\n",
      "14     AIH\n",
      "15     PBC\n",
      "16    MASH\n",
      "17     PBC\n",
      "18     PBC\n",
      "19     AIH\n",
      "20     PBC\n",
      "21    MASH\n",
      "22    MASH\n",
      "23     AIH\n",
      "24    MASH\n",
      "25     AIH\n",
      "26    MASH\n",
      "Name: Diagnosis, dtype: object\n",
      "Training model for MASH vs Rest with genes: ['POLR1E' 'SLC37A1' 'BTLA' 'APOL4' 'RTN1' 'IKBKE' 'SLC46A1' 'SMYD5' 'SKIL'\n",
      " 'PHB2' 'EMG1' 'CD27' 'AKAP8L' 'ZKSCAN8' 'BCL9L' 'PARP1' 'APOBEC3H'\n",
      " 'HRASLS5' 'PDCD1' 'RARRES3' 'C15orf54' 'CMTM6' 'TIGIT' 'INTS4']\n",
      "Classification report for MASH vs Rest:\n",
      "              precision    recall  f1-score   support\n",
      "\n",
      "           0       1.00      1.00      1.00         6\n",
      "           1       1.00      1.00      1.00         3\n",
      "\n",
      "    accuracy                           1.00         9\n",
      "   macro avg       1.00      1.00      1.00         9\n",
      "weighted avg       1.00      1.00      1.00         9\n",
      "\n",
      "Training model for AIH vs Rest with genes: ['ZNF165' 'APOBEC3H' 'CYP7A1' 'SLC37A1' 'FDXR' 'ZHX1' 'SEC14L2' 'IKBKE']\n",
      "Classification report for AIH vs Rest:\n",
      "              precision    recall  f1-score   support\n",
      "\n",
      "           0       0.75      1.00      0.86         6\n",
      "           1       1.00      0.33      0.50         3\n",
      "\n",
      "    accuracy                           0.78         9\n",
      "   macro avg       0.88      0.67      0.68         9\n",
      "weighted avg       0.83      0.78      0.74         9\n",
      "\n",
      "Training model for PBC vs Rest with genes: ['C11orf73' 'HMGN3' 'TCP11L2']\n",
      "Classification report for PBC vs Rest:\n",
      "              precision    recall  f1-score   support\n",
      "\n",
      "           0       0.86      1.00      0.92         6\n",
      "           1       1.00      0.67      0.80         3\n",
      "\n",
      "    accuracy                           0.89         9\n",
      "   macro avg       0.93      0.83      0.86         9\n",
      "weighted avg       0.90      0.89      0.88         9\n",
      "\n"
     ]
    }
   ],
   "execution_count": 7
  },
  {
   "metadata": {
    "ExecuteTime": {
     "end_time": "2025-03-16T15:44:19.030385Z",
     "start_time": "2025-03-16T15:44:19.024490Z"
    }
   },
   "cell_type": "code",
   "source": "print(models)",
   "id": "f05fc0ca7a202cba",
   "outputs": [
    {
     "name": "stdout",
     "output_type": "stream",
     "text": [
      "[('MASH vs Rest', LogisticRegression(max_iter=5000)), ('AIH vs Rest', LogisticRegression(max_iter=5000)), ('PBC vs Rest', LogisticRegression(max_iter=5000))]\n"
     ]
    }
   ],
   "execution_count": 8
  },
  {
   "metadata": {
    "ExecuteTime": {
     "end_time": "2025-03-16T15:44:21.332988Z",
     "start_time": "2025-03-16T15:44:21.245040Z"
    }
   },
   "cell_type": "code",
   "source": [
    "from sklearn.metrics import accuracy_score\n",
    "import numpy as np\n",
    "\n",
    "# List to store the final predictions\n",
    "final_predictions = []\n",
    "#X_test, y_test = features, labels\n",
    "\n",
    "# Iterate through each sample in the test set\n",
    "for idx in range(X_test.shape[0]):\n",
    "    sample = X_test.iloc[idx]  # Extract the sample\n",
    "    true_label = y_test.iloc[idx]\n",
    "    max_prob = -np.inf\n",
    "    selected_classifier = None\n",
    "    selected_prediction = None\n",
    "\n",
    "    # Iterate through all classifiers\n",
    "    for comparison, model in models:\n",
    "        genes = comparison_gene_map[comparison]  # Genes used by this classifier\n",
    "        sample_genes = sample[genes].to_frame().T  # Convert Series to 2D DataFrame\n",
    "\n",
    "        # Get the probability for the positive class\n",
    "        prob = model.predict_proba(sample_genes)[0][1]  # Probability of class 1\n",
    "        print(prob, comparison)\n",
    "        # If this classifier gives a higher probability, select it\n",
    "        if prob > max_prob:\n",
    "            max_prob = prob\n",
    "            selected_classifier = comparison\n",
    "            selected_prediction = comparison.split(' vs ')[0] # model.predict(sample_genes)[0]\n",
    "    print(max_prob, selected_classifier, selected_prediction, \"real: \", true_label)\n",
    "    # Store the selected prediction\n",
    "    final_predictions.append(selected_prediction)\n",
    "\n",
    "# Evaluate accuracy of the ensemble strategy\n",
    "ensemble_accuracy = accuracy_score(y_test, final_predictions)\n",
    "print(f\"Ensemble Accuracy: {ensemble_accuracy:.2f}\")\n"
   ],
   "id": "9c4c6ea89ceaff8d",
   "outputs": [
    {
     "name": "stdout",
     "output_type": "stream",
     "text": [
      "0.0007162769976746181 MASH vs Rest\n",
      "0.35097799350786524 AIH vs Rest\n",
      "0.42292691562886714 PBC vs Rest\n",
      "0.42292691562886714 PBC vs Rest PBC real:  PBC\n",
      "1.93362626487661e-09 MASH vs Rest\n",
      "0.999204760730925 AIH vs Rest\n",
      "0.2699262789226754 PBC vs Rest\n",
      "0.999204760730925 AIH vs Rest AIH real:  AIH\n",
      "0.973263953665141 MASH vs Rest\n",
      "5.516917214915672e-05 AIH vs Rest\n",
      "0.07592297565411084 PBC vs Rest\n",
      "0.973263953665141 MASH vs Rest MASH real:  MASH\n",
      "1.3959104734797288e-08 MASH vs Rest\n",
      "2.6662445826448312e-05 AIH vs Rest\n",
      "0.6179404028521002 PBC vs Rest\n",
      "0.6179404028521002 PBC vs Rest PBC real:  PBC\n",
      "0.9991129079804199 MASH vs Rest\n",
      "0.0006369603520632447 AIH vs Rest\n",
      "0.18634738658960592 PBC vs Rest\n",
      "0.9991129079804199 MASH vs Rest MASH real:  MASH\n",
      "0.039538762345657945 MASH vs Rest\n",
      "0.006619032824768127 AIH vs Rest\n",
      "0.3508050745872289 PBC vs Rest\n",
      "0.3508050745872289 PBC vs Rest PBC real:  AIH\n",
      "0.005664635349095541 MASH vs Rest\n",
      "1.963530418916082e-05 AIH vs Rest\n",
      "0.4221769003508981 PBC vs Rest\n",
      "0.4221769003508981 PBC vs Rest PBC real:  AIH\n",
      "8.928538875925894e-10 MASH vs Rest\n",
      "0.0007926335929624598 AIH vs Rest\n",
      "0.791403586341988 PBC vs Rest\n",
      "0.791403586341988 PBC vs Rest PBC real:  PBC\n",
      "0.9319690485963068 MASH vs Rest\n",
      "6.454618421570714e-05 AIH vs Rest\n",
      "0.1701632248995339 PBC vs Rest\n",
      "0.9319690485963068 MASH vs Rest MASH real:  MASH\n",
      "Ensemble Accuracy: 0.78\n"
     ]
    }
   ],
   "execution_count": 9
  },
  {
   "metadata": {
    "ExecuteTime": {
     "end_time": "2025-03-16T15:47:45.874634Z",
     "start_time": "2025-03-16T15:47:45.780948Z"
    }
   },
   "cell_type": "code",
   "source": [
    "from sklearn.metrics import confusion_matrix, ConfusionMatrixDisplay\n",
    "import numpy as np\n",
    "import matplotlib.pyplot as plt\n",
    "\n",
    "# Generate the confusion matrix\n",
    "cm = confusion_matrix(y_test, final_predictions, labels=y.unique())\n",
    "\n",
    "# Normalize the confusion matrix by row (true class)\n",
    "cm_normalized = cm.astype('float') / cm.sum(axis=1)[:, np.newaxis]\n",
    "\n",
    "disp = ConfusionMatrixDisplay(confusion_matrix=cm_normalized, display_labels=y.unique())\n",
    "plt.figure(figsize=(8, 6))\n",
    "disp.plot(cmap='Blues', values_format='.2f')  # Display values as percentages\n",
    "plt.grid(False)  # Disable the grid\n",
    "plt.title('Normalized Confusion Matrix for Ensemble Model')\n",
    "plt.show()\n"
   ],
   "id": "c92a0f3735b358fc",
   "outputs": [
    {
     "ename": "ValueError",
     "evalue": "Found input variables with inconsistent numbers of samples: [33, 29]",
     "output_type": "error",
     "traceback": [
      "\u001B[0;31m---------------------------------------------------------------------------\u001B[0m",
      "\u001B[0;31mValueError\u001B[0m                                Traceback (most recent call last)",
      "Cell \u001B[0;32mIn[18], line 6\u001B[0m\n\u001B[1;32m      3\u001B[0m \u001B[38;5;28;01mimport\u001B[39;00m\u001B[38;5;250m \u001B[39m\u001B[38;5;21;01mmatplotlib\u001B[39;00m\u001B[38;5;21;01m.\u001B[39;00m\u001B[38;5;21;01mpyplot\u001B[39;00m\u001B[38;5;250m \u001B[39m\u001B[38;5;28;01mas\u001B[39;00m\u001B[38;5;250m \u001B[39m\u001B[38;5;21;01mplt\u001B[39;00m\n\u001B[1;32m      5\u001B[0m \u001B[38;5;66;03m# Generate the confusion matrix\u001B[39;00m\n\u001B[0;32m----> 6\u001B[0m cm \u001B[38;5;241m=\u001B[39m \u001B[43mconfusion_matrix\u001B[49m\u001B[43m(\u001B[49m\u001B[43my_test\u001B[49m\u001B[43m,\u001B[49m\u001B[43m \u001B[49m\u001B[43mfinal_predictions\u001B[49m\u001B[43m,\u001B[49m\u001B[43m \u001B[49m\u001B[43mlabels\u001B[49m\u001B[38;5;241;43m=\u001B[39;49m\u001B[43my_test\u001B[49m\u001B[38;5;241;43m.\u001B[39;49m\u001B[43munique\u001B[49m\u001B[43m(\u001B[49m\u001B[43m)\u001B[49m\u001B[43m)\u001B[49m\n\u001B[1;32m      8\u001B[0m \u001B[38;5;66;03m# Normalize the confusion matrix by row (true class)\u001B[39;00m\n\u001B[1;32m      9\u001B[0m cm_normalized \u001B[38;5;241m=\u001B[39m cm\u001B[38;5;241m.\u001B[39mastype(\u001B[38;5;124m'\u001B[39m\u001B[38;5;124mfloat\u001B[39m\u001B[38;5;124m'\u001B[39m) \u001B[38;5;241m/\u001B[39m cm\u001B[38;5;241m.\u001B[39msum(axis\u001B[38;5;241m=\u001B[39m\u001B[38;5;241m1\u001B[39m)[:, np\u001B[38;5;241m.\u001B[39mnewaxis]\n",
      "File \u001B[0;32m/Library/Frameworks/Python.framework/Versions/3.13/lib/python3.13/site-packages/sklearn/utils/_param_validation.py:216\u001B[0m, in \u001B[0;36mvalidate_params.<locals>.decorator.<locals>.wrapper\u001B[0;34m(*args, **kwargs)\u001B[0m\n\u001B[1;32m    210\u001B[0m \u001B[38;5;28;01mtry\u001B[39;00m:\n\u001B[1;32m    211\u001B[0m     \u001B[38;5;28;01mwith\u001B[39;00m config_context(\n\u001B[1;32m    212\u001B[0m         skip_parameter_validation\u001B[38;5;241m=\u001B[39m(\n\u001B[1;32m    213\u001B[0m             prefer_skip_nested_validation \u001B[38;5;129;01mor\u001B[39;00m global_skip_validation\n\u001B[1;32m    214\u001B[0m         )\n\u001B[1;32m    215\u001B[0m     ):\n\u001B[0;32m--> 216\u001B[0m         \u001B[38;5;28;01mreturn\u001B[39;00m \u001B[43mfunc\u001B[49m\u001B[43m(\u001B[49m\u001B[38;5;241;43m*\u001B[39;49m\u001B[43margs\u001B[49m\u001B[43m,\u001B[49m\u001B[43m \u001B[49m\u001B[38;5;241;43m*\u001B[39;49m\u001B[38;5;241;43m*\u001B[39;49m\u001B[43mkwargs\u001B[49m\u001B[43m)\u001B[49m\n\u001B[1;32m    217\u001B[0m \u001B[38;5;28;01mexcept\u001B[39;00m InvalidParameterError \u001B[38;5;28;01mas\u001B[39;00m e:\n\u001B[1;32m    218\u001B[0m     \u001B[38;5;66;03m# When the function is just a wrapper around an estimator, we allow\u001B[39;00m\n\u001B[1;32m    219\u001B[0m     \u001B[38;5;66;03m# the function to delegate validation to the estimator, but we replace\u001B[39;00m\n\u001B[1;32m    220\u001B[0m     \u001B[38;5;66;03m# the name of the estimator by the name of the function in the error\u001B[39;00m\n\u001B[1;32m    221\u001B[0m     \u001B[38;5;66;03m# message to avoid confusion.\u001B[39;00m\n\u001B[1;32m    222\u001B[0m     msg \u001B[38;5;241m=\u001B[39m re\u001B[38;5;241m.\u001B[39msub(\n\u001B[1;32m    223\u001B[0m         \u001B[38;5;124mr\u001B[39m\u001B[38;5;124m\"\u001B[39m\u001B[38;5;124mparameter of \u001B[39m\u001B[38;5;124m\\\u001B[39m\u001B[38;5;124mw+ must be\u001B[39m\u001B[38;5;124m\"\u001B[39m,\n\u001B[1;32m    224\u001B[0m         \u001B[38;5;124mf\u001B[39m\u001B[38;5;124m\"\u001B[39m\u001B[38;5;124mparameter of \u001B[39m\u001B[38;5;132;01m{\u001B[39;00mfunc\u001B[38;5;241m.\u001B[39m\u001B[38;5;18m__qualname__\u001B[39m\u001B[38;5;132;01m}\u001B[39;00m\u001B[38;5;124m must be\u001B[39m\u001B[38;5;124m\"\u001B[39m,\n\u001B[1;32m    225\u001B[0m         \u001B[38;5;28mstr\u001B[39m(e),\n\u001B[1;32m    226\u001B[0m     )\n",
      "File \u001B[0;32m/Library/Frameworks/Python.framework/Versions/3.13/lib/python3.13/site-packages/sklearn/metrics/_classification.py:340\u001B[0m, in \u001B[0;36mconfusion_matrix\u001B[0;34m(y_true, y_pred, labels, sample_weight, normalize)\u001B[0m\n\u001B[1;32m    257\u001B[0m \u001B[38;5;250m\u001B[39m\u001B[38;5;124;03m\"\"\"Compute confusion matrix to evaluate the accuracy of a classification.\u001B[39;00m\n\u001B[1;32m    258\u001B[0m \n\u001B[1;32m    259\u001B[0m \u001B[38;5;124;03mBy definition a confusion matrix :math:`C` is such that :math:`C_{i, j}`\u001B[39;00m\n\u001B[0;32m   (...)\u001B[0m\n\u001B[1;32m    337\u001B[0m \u001B[38;5;124;03m(np.int64(0), np.int64(2), np.int64(1), np.int64(1))\u001B[39;00m\n\u001B[1;32m    338\u001B[0m \u001B[38;5;124;03m\"\"\"\u001B[39;00m\n\u001B[1;32m    339\u001B[0m y_true, y_pred \u001B[38;5;241m=\u001B[39m attach_unique(y_true, y_pred)\n\u001B[0;32m--> 340\u001B[0m y_type, y_true, y_pred \u001B[38;5;241m=\u001B[39m \u001B[43m_check_targets\u001B[49m\u001B[43m(\u001B[49m\u001B[43my_true\u001B[49m\u001B[43m,\u001B[49m\u001B[43m \u001B[49m\u001B[43my_pred\u001B[49m\u001B[43m)\u001B[49m\n\u001B[1;32m    341\u001B[0m \u001B[38;5;28;01mif\u001B[39;00m y_type \u001B[38;5;129;01mnot\u001B[39;00m \u001B[38;5;129;01min\u001B[39;00m (\u001B[38;5;124m\"\u001B[39m\u001B[38;5;124mbinary\u001B[39m\u001B[38;5;124m\"\u001B[39m, \u001B[38;5;124m\"\u001B[39m\u001B[38;5;124mmulticlass\u001B[39m\u001B[38;5;124m\"\u001B[39m):\n\u001B[1;32m    342\u001B[0m     \u001B[38;5;28;01mraise\u001B[39;00m \u001B[38;5;167;01mValueError\u001B[39;00m(\u001B[38;5;124m\"\u001B[39m\u001B[38;5;132;01m%s\u001B[39;00m\u001B[38;5;124m is not supported\u001B[39m\u001B[38;5;124m\"\u001B[39m \u001B[38;5;241m%\u001B[39m y_type)\n",
      "File \u001B[0;32m/Library/Frameworks/Python.framework/Versions/3.13/lib/python3.13/site-packages/sklearn/metrics/_classification.py:98\u001B[0m, in \u001B[0;36m_check_targets\u001B[0;34m(y_true, y_pred)\u001B[0m\n\u001B[1;32m     71\u001B[0m \u001B[38;5;250m\u001B[39m\u001B[38;5;124;03m\"\"\"Check that y_true and y_pred belong to the same classification task.\u001B[39;00m\n\u001B[1;32m     72\u001B[0m \n\u001B[1;32m     73\u001B[0m \u001B[38;5;124;03mThis converts multiclass or binary types to a common shape, and raises a\u001B[39;00m\n\u001B[0;32m   (...)\u001B[0m\n\u001B[1;32m     95\u001B[0m \u001B[38;5;124;03my_pred : array or indicator matrix\u001B[39;00m\n\u001B[1;32m     96\u001B[0m \u001B[38;5;124;03m\"\"\"\u001B[39;00m\n\u001B[1;32m     97\u001B[0m xp, _ \u001B[38;5;241m=\u001B[39m get_namespace(y_true, y_pred)\n\u001B[0;32m---> 98\u001B[0m \u001B[43mcheck_consistent_length\u001B[49m\u001B[43m(\u001B[49m\u001B[43my_true\u001B[49m\u001B[43m,\u001B[49m\u001B[43m \u001B[49m\u001B[43my_pred\u001B[49m\u001B[43m)\u001B[49m\n\u001B[1;32m     99\u001B[0m type_true \u001B[38;5;241m=\u001B[39m type_of_target(y_true, input_name\u001B[38;5;241m=\u001B[39m\u001B[38;5;124m\"\u001B[39m\u001B[38;5;124my_true\u001B[39m\u001B[38;5;124m\"\u001B[39m)\n\u001B[1;32m    100\u001B[0m type_pred \u001B[38;5;241m=\u001B[39m type_of_target(y_pred, input_name\u001B[38;5;241m=\u001B[39m\u001B[38;5;124m\"\u001B[39m\u001B[38;5;124my_pred\u001B[39m\u001B[38;5;124m\"\u001B[39m)\n",
      "File \u001B[0;32m/Library/Frameworks/Python.framework/Versions/3.13/lib/python3.13/site-packages/sklearn/utils/validation.py:475\u001B[0m, in \u001B[0;36mcheck_consistent_length\u001B[0;34m(*arrays)\u001B[0m\n\u001B[1;32m    473\u001B[0m uniques \u001B[38;5;241m=\u001B[39m np\u001B[38;5;241m.\u001B[39munique(lengths)\n\u001B[1;32m    474\u001B[0m \u001B[38;5;28;01mif\u001B[39;00m \u001B[38;5;28mlen\u001B[39m(uniques) \u001B[38;5;241m>\u001B[39m \u001B[38;5;241m1\u001B[39m:\n\u001B[0;32m--> 475\u001B[0m     \u001B[38;5;28;01mraise\u001B[39;00m \u001B[38;5;167;01mValueError\u001B[39;00m(\n\u001B[1;32m    476\u001B[0m         \u001B[38;5;124m\"\u001B[39m\u001B[38;5;124mFound input variables with inconsistent numbers of samples: \u001B[39m\u001B[38;5;132;01m%r\u001B[39;00m\u001B[38;5;124m\"\u001B[39m\n\u001B[1;32m    477\u001B[0m         \u001B[38;5;241m%\u001B[39m [\u001B[38;5;28mint\u001B[39m(l) \u001B[38;5;28;01mfor\u001B[39;00m l \u001B[38;5;129;01min\u001B[39;00m lengths]\n\u001B[1;32m    478\u001B[0m     )\n",
      "\u001B[0;31mValueError\u001B[0m: Found input variables with inconsistent numbers of samples: [33, 29]"
     ]
    }
   ],
   "execution_count": 18
  },
  {
   "metadata": {
    "ExecuteTime": {
     "end_time": "2025-03-16T15:48:17.830991Z",
     "start_time": "2025-03-16T15:48:11.002084Z"
    }
   },
   "cell_type": "code",
   "source": [
    "import matplotlib.pyplot as plt\n",
    "import numpy as np\n",
    "from sklearn.linear_model import LogisticRegression\n",
    "from sklearn.model_selection import train_test_split\n",
    "from sklearn.metrics import accuracy_score\n",
    "import pandas as pd\n",
    "\n",
    "# Parameters for the experiment\n",
    "test_sizes = np.linspace(0.1, 0.9, 9)  # Test sizes from 10% to 90%\n",
    "n_runs = 5  # Number of runs per test size\n",
    "\n",
    "# Store results\n",
    "mean_accuracies = []\n",
    "std_accuracies = []\n",
    "\n",
    "for test_size in test_sizes:\n",
    "    accuracies = []\n",
    "    for _ in range(n_runs):\n",
    "        # Split the data into train/test sets with varying test sizes\n",
    "        X_train, X_test, y_train, y_test = train_test_split(features, labels, test_size=test_size, random_state=None)\n",
    "        \n",
    "        models = []\n",
    "        for comparison, genes in comparison_gene_map.items():\n",
    "            target_class = comparison.split(' vs ')[0]\n",
    "            subyTrain = np.where(y_train == target_class, 1, 0)\n",
    "            subyTest = np.where(y_test == target_class, 1, 0)\n",
    "\n",
    "            model = LogisticRegression(max_iter=5000)\n",
    "            subTrain = X_train[genes]\n",
    "            model.fit(subTrain, subyTrain)\n",
    "            models.append((comparison, model))\n",
    "\n",
    "        # Final predictions based on the ensemble\n",
    "        final_predictions = []\n",
    "        for idx in range(X_test.shape[0]):\n",
    "            sample = X_test.iloc[idx]\n",
    "            max_prob = -np.inf\n",
    "            selected_prediction = None\n",
    "            for comparison, model in models:\n",
    "                genes = comparison_gene_map[comparison]\n",
    "                sample_genes = sample[genes].to_frame().T\n",
    "                prob = model.predict_proba(sample_genes)[0][1]\n",
    "                if prob > max_prob:\n",
    "                    max_prob = prob\n",
    "                    selected_prediction = comparison.split(' vs ')[0]\n",
    "            final_predictions.append(selected_prediction)\n",
    "\n",
    "        # Evaluate accuracy\n",
    "        accuracy = accuracy_score(y_test, final_predictions)\n",
    "        accuracies.append(accuracy)\n",
    "\n",
    "    # Calculate mean and standard deviation of accuracies for this test size\n",
    "    mean_accuracies.append(np.mean(accuracies))\n",
    "    std_accuracies.append(np.std(accuracies))\n"
   ],
   "id": "21b5118be3987290",
   "outputs": [
    {
     "ename": "ValueError",
     "evalue": "This solver needs samples of at least 2 classes in the data, but the data contains only one class: np.int64(0)",
     "output_type": "error",
     "traceback": [
      "\u001B[0;31m---------------------------------------------------------------------------\u001B[0m",
      "\u001B[0;31mValueError\u001B[0m                                Traceback (most recent call last)",
      "Cell \u001B[0;32mIn[19], line 30\u001B[0m\n\u001B[1;32m     28\u001B[0m     model \u001B[38;5;241m=\u001B[39m LogisticRegression(max_iter\u001B[38;5;241m=\u001B[39m\u001B[38;5;241m5000\u001B[39m)\n\u001B[1;32m     29\u001B[0m     subTrain \u001B[38;5;241m=\u001B[39m X_train[genes]\n\u001B[0;32m---> 30\u001B[0m     \u001B[43mmodel\u001B[49m\u001B[38;5;241;43m.\u001B[39;49m\u001B[43mfit\u001B[49m\u001B[43m(\u001B[49m\u001B[43msubTrain\u001B[49m\u001B[43m,\u001B[49m\u001B[43m \u001B[49m\u001B[43msubyTrain\u001B[49m\u001B[43m)\u001B[49m\n\u001B[1;32m     31\u001B[0m     models\u001B[38;5;241m.\u001B[39mappend((comparison, model))\n\u001B[1;32m     33\u001B[0m \u001B[38;5;66;03m# Final predictions based on the ensemble\u001B[39;00m\n",
      "File \u001B[0;32m/Library/Frameworks/Python.framework/Versions/3.13/lib/python3.13/site-packages/sklearn/base.py:1389\u001B[0m, in \u001B[0;36m_fit_context.<locals>.decorator.<locals>.wrapper\u001B[0;34m(estimator, *args, **kwargs)\u001B[0m\n\u001B[1;32m   1382\u001B[0m     estimator\u001B[38;5;241m.\u001B[39m_validate_params()\n\u001B[1;32m   1384\u001B[0m \u001B[38;5;28;01mwith\u001B[39;00m config_context(\n\u001B[1;32m   1385\u001B[0m     skip_parameter_validation\u001B[38;5;241m=\u001B[39m(\n\u001B[1;32m   1386\u001B[0m         prefer_skip_nested_validation \u001B[38;5;129;01mor\u001B[39;00m global_skip_validation\n\u001B[1;32m   1387\u001B[0m     )\n\u001B[1;32m   1388\u001B[0m ):\n\u001B[0;32m-> 1389\u001B[0m     \u001B[38;5;28;01mreturn\u001B[39;00m \u001B[43mfit_method\u001B[49m\u001B[43m(\u001B[49m\u001B[43mestimator\u001B[49m\u001B[43m,\u001B[49m\u001B[43m \u001B[49m\u001B[38;5;241;43m*\u001B[39;49m\u001B[43margs\u001B[49m\u001B[43m,\u001B[49m\u001B[43m \u001B[49m\u001B[38;5;241;43m*\u001B[39;49m\u001B[38;5;241;43m*\u001B[39;49m\u001B[43mkwargs\u001B[49m\u001B[43m)\u001B[49m\n",
      "File \u001B[0;32m/Library/Frameworks/Python.framework/Versions/3.13/lib/python3.13/site-packages/sklearn/linear_model/_logistic.py:1301\u001B[0m, in \u001B[0;36mLogisticRegression.fit\u001B[0;34m(self, X, y, sample_weight)\u001B[0m\n\u001B[1;32m   1299\u001B[0m classes_ \u001B[38;5;241m=\u001B[39m \u001B[38;5;28mself\u001B[39m\u001B[38;5;241m.\u001B[39mclasses_\n\u001B[1;32m   1300\u001B[0m \u001B[38;5;28;01mif\u001B[39;00m n_classes \u001B[38;5;241m<\u001B[39m \u001B[38;5;241m2\u001B[39m:\n\u001B[0;32m-> 1301\u001B[0m     \u001B[38;5;28;01mraise\u001B[39;00m \u001B[38;5;167;01mValueError\u001B[39;00m(\n\u001B[1;32m   1302\u001B[0m         \u001B[38;5;124m\"\u001B[39m\u001B[38;5;124mThis solver needs samples of at least 2 classes\u001B[39m\u001B[38;5;124m\"\u001B[39m\n\u001B[1;32m   1303\u001B[0m         \u001B[38;5;124m\"\u001B[39m\u001B[38;5;124m in the data, but the data contains only one\u001B[39m\u001B[38;5;124m\"\u001B[39m\n\u001B[1;32m   1304\u001B[0m         \u001B[38;5;124m\"\u001B[39m\u001B[38;5;124m class: \u001B[39m\u001B[38;5;132;01m%r\u001B[39;00m\u001B[38;5;124m\"\u001B[39m \u001B[38;5;241m%\u001B[39m classes_[\u001B[38;5;241m0\u001B[39m]\n\u001B[1;32m   1305\u001B[0m     )\n\u001B[1;32m   1307\u001B[0m \u001B[38;5;28;01mif\u001B[39;00m \u001B[38;5;28mlen\u001B[39m(\u001B[38;5;28mself\u001B[39m\u001B[38;5;241m.\u001B[39mclasses_) \u001B[38;5;241m==\u001B[39m \u001B[38;5;241m2\u001B[39m:\n\u001B[1;32m   1308\u001B[0m     n_classes \u001B[38;5;241m=\u001B[39m \u001B[38;5;241m1\u001B[39m\n",
      "\u001B[0;31mValueError\u001B[0m: This solver needs samples of at least 2 classes in the data, but the data contains only one class: np.int64(0)"
     ]
    }
   ],
   "execution_count": 19
  },
  {
   "metadata": {
    "ExecuteTime": {
     "end_time": "2025-03-16T15:45:00.686838Z",
     "start_time": "2025-03-16T15:44:59.023729Z"
    }
   },
   "cell_type": "code",
   "source": [
    "# Plot the results\n",
    "plt.figure(figsize=(10, 6))\n",
    "plt.errorbar(test_sizes, mean_accuracies, yerr=std_accuracies, fmt='-o', color='orange', ecolor='blue', capsize=4, label='Accuracy ± SD')\n",
    "plt.title(\"Ensemble Accuracy vs Test Portion (with SD)\", fontsize=10)\n",
    "plt.xlabel(\"Test Portion\", fontsize=8)\n",
    "plt.ylabel(\"Accuracy\", fontsize=8)\n",
    "plt.xticks(fontsize=8)\n",
    "plt.yticks(fontsize=8)\n",
    "plt.grid(True, linestyle='--')\n",
    "plt.legend(fontsize=8)\n",
    "plt.show()"
   ],
   "id": "75d9f67f0a402786",
   "outputs": [
    {
     "ename": "ValueError",
     "evalue": "'x' and 'y' must have the same size",
     "output_type": "error",
     "traceback": [
      "\u001B[0;31m---------------------------------------------------------------------------\u001B[0m",
      "\u001B[0;31mValueError\u001B[0m                                Traceback (most recent call last)",
      "Cell \u001B[0;32mIn[13], line 3\u001B[0m\n\u001B[1;32m      1\u001B[0m \u001B[38;5;66;03m# Plot the results\u001B[39;00m\n\u001B[1;32m      2\u001B[0m plt\u001B[38;5;241m.\u001B[39mfigure(figsize\u001B[38;5;241m=\u001B[39m(\u001B[38;5;241m10\u001B[39m, \u001B[38;5;241m6\u001B[39m))\n\u001B[0;32m----> 3\u001B[0m \u001B[43mplt\u001B[49m\u001B[38;5;241;43m.\u001B[39;49m\u001B[43merrorbar\u001B[49m\u001B[43m(\u001B[49m\u001B[43mtest_sizes\u001B[49m\u001B[43m,\u001B[49m\u001B[43m \u001B[49m\u001B[43mmean_accuracies\u001B[49m\u001B[43m,\u001B[49m\u001B[43m \u001B[49m\u001B[43myerr\u001B[49m\u001B[38;5;241;43m=\u001B[39;49m\u001B[43mstd_accuracies\u001B[49m\u001B[43m,\u001B[49m\u001B[43m \u001B[49m\u001B[43mfmt\u001B[49m\u001B[38;5;241;43m=\u001B[39;49m\u001B[38;5;124;43m'\u001B[39;49m\u001B[38;5;124;43m-o\u001B[39;49m\u001B[38;5;124;43m'\u001B[39;49m\u001B[43m,\u001B[49m\u001B[43m \u001B[49m\u001B[43mcolor\u001B[49m\u001B[38;5;241;43m=\u001B[39;49m\u001B[38;5;124;43m'\u001B[39;49m\u001B[38;5;124;43morange\u001B[39;49m\u001B[38;5;124;43m'\u001B[39;49m\u001B[43m,\u001B[49m\u001B[43m \u001B[49m\u001B[43mecolor\u001B[49m\u001B[38;5;241;43m=\u001B[39;49m\u001B[38;5;124;43m'\u001B[39;49m\u001B[38;5;124;43mblue\u001B[39;49m\u001B[38;5;124;43m'\u001B[39;49m\u001B[43m,\u001B[49m\u001B[43m \u001B[49m\u001B[43mcapsize\u001B[49m\u001B[38;5;241;43m=\u001B[39;49m\u001B[38;5;241;43m4\u001B[39;49m\u001B[43m,\u001B[49m\u001B[43m \u001B[49m\u001B[43mlabel\u001B[49m\u001B[38;5;241;43m=\u001B[39;49m\u001B[38;5;124;43m'\u001B[39;49m\u001B[38;5;124;43mAccuracy ± SD\u001B[39;49m\u001B[38;5;124;43m'\u001B[39;49m\u001B[43m)\u001B[49m\n\u001B[1;32m      4\u001B[0m plt\u001B[38;5;241m.\u001B[39mtitle(\u001B[38;5;124m\"\u001B[39m\u001B[38;5;124mEnsemble Accuracy vs Test Portion (with SD)\u001B[39m\u001B[38;5;124m\"\u001B[39m, fontsize\u001B[38;5;241m=\u001B[39m\u001B[38;5;241m10\u001B[39m)\n\u001B[1;32m      5\u001B[0m plt\u001B[38;5;241m.\u001B[39mxlabel(\u001B[38;5;124m\"\u001B[39m\u001B[38;5;124mTest Portion\u001B[39m\u001B[38;5;124m\"\u001B[39m, fontsize\u001B[38;5;241m=\u001B[39m\u001B[38;5;241m8\u001B[39m)\n",
      "File \u001B[0;32m/Library/Frameworks/Python.framework/Versions/3.13/lib/python3.13/site-packages/matplotlib/_api/deprecation.py:453\u001B[0m, in \u001B[0;36mmake_keyword_only.<locals>.wrapper\u001B[0;34m(*args, **kwargs)\u001B[0m\n\u001B[1;32m    447\u001B[0m \u001B[38;5;28;01mif\u001B[39;00m \u001B[38;5;28mlen\u001B[39m(args) \u001B[38;5;241m>\u001B[39m name_idx:\n\u001B[1;32m    448\u001B[0m     warn_deprecated(\n\u001B[1;32m    449\u001B[0m         since, message\u001B[38;5;241m=\u001B[39m\u001B[38;5;124m\"\u001B[39m\u001B[38;5;124mPassing the \u001B[39m\u001B[38;5;132;01m%(name)s\u001B[39;00m\u001B[38;5;124m \u001B[39m\u001B[38;5;132;01m%(obj_type)s\u001B[39;00m\u001B[38;5;124m \u001B[39m\u001B[38;5;124m\"\u001B[39m\n\u001B[1;32m    450\u001B[0m         \u001B[38;5;124m\"\u001B[39m\u001B[38;5;124mpositionally is deprecated since Matplotlib \u001B[39m\u001B[38;5;132;01m%(since)s\u001B[39;00m\u001B[38;5;124m; the \u001B[39m\u001B[38;5;124m\"\u001B[39m\n\u001B[1;32m    451\u001B[0m         \u001B[38;5;124m\"\u001B[39m\u001B[38;5;124mparameter will become keyword-only in \u001B[39m\u001B[38;5;132;01m%(removal)s\u001B[39;00m\u001B[38;5;124m.\u001B[39m\u001B[38;5;124m\"\u001B[39m,\n\u001B[1;32m    452\u001B[0m         name\u001B[38;5;241m=\u001B[39mname, obj_type\u001B[38;5;241m=\u001B[39m\u001B[38;5;124mf\u001B[39m\u001B[38;5;124m\"\u001B[39m\u001B[38;5;124mparameter of \u001B[39m\u001B[38;5;132;01m{\u001B[39;00mfunc\u001B[38;5;241m.\u001B[39m\u001B[38;5;18m__name__\u001B[39m\u001B[38;5;132;01m}\u001B[39;00m\u001B[38;5;124m()\u001B[39m\u001B[38;5;124m\"\u001B[39m)\n\u001B[0;32m--> 453\u001B[0m \u001B[38;5;28;01mreturn\u001B[39;00m \u001B[43mfunc\u001B[49m\u001B[43m(\u001B[49m\u001B[38;5;241;43m*\u001B[39;49m\u001B[43margs\u001B[49m\u001B[43m,\u001B[49m\u001B[43m \u001B[49m\u001B[38;5;241;43m*\u001B[39;49m\u001B[38;5;241;43m*\u001B[39;49m\u001B[43mkwargs\u001B[49m\u001B[43m)\u001B[49m\n",
      "File \u001B[0;32m/Library/Frameworks/Python.framework/Versions/3.13/lib/python3.13/site-packages/matplotlib/pyplot.py:3273\u001B[0m, in \u001B[0;36merrorbar\u001B[0;34m(x, y, yerr, xerr, fmt, ecolor, elinewidth, capsize, barsabove, lolims, uplims, xlolims, xuplims, errorevery, capthick, data, **kwargs)\u001B[0m\n\u001B[1;32m   3252\u001B[0m \u001B[38;5;129m@_copy_docstring_and_deprecators\u001B[39m(Axes\u001B[38;5;241m.\u001B[39merrorbar)\n\u001B[1;32m   3253\u001B[0m \u001B[38;5;28;01mdef\u001B[39;00m\u001B[38;5;250m \u001B[39m\u001B[38;5;21merrorbar\u001B[39m(\n\u001B[1;32m   3254\u001B[0m     x: \u001B[38;5;28mfloat\u001B[39m \u001B[38;5;241m|\u001B[39m ArrayLike,\n\u001B[0;32m   (...)\u001B[0m\n\u001B[1;32m   3271\u001B[0m     \u001B[38;5;241m*\u001B[39m\u001B[38;5;241m*\u001B[39mkwargs,\n\u001B[1;32m   3272\u001B[0m ) \u001B[38;5;241m-\u001B[39m\u001B[38;5;241m>\u001B[39m ErrorbarContainer:\n\u001B[0;32m-> 3273\u001B[0m     \u001B[38;5;28;01mreturn\u001B[39;00m \u001B[43mgca\u001B[49m\u001B[43m(\u001B[49m\u001B[43m)\u001B[49m\u001B[38;5;241;43m.\u001B[39;49m\u001B[43merrorbar\u001B[49m\u001B[43m(\u001B[49m\n\u001B[1;32m   3274\u001B[0m \u001B[43m        \u001B[49m\u001B[43mx\u001B[49m\u001B[43m,\u001B[49m\n\u001B[1;32m   3275\u001B[0m \u001B[43m        \u001B[49m\u001B[43my\u001B[49m\u001B[43m,\u001B[49m\n\u001B[1;32m   3276\u001B[0m \u001B[43m        \u001B[49m\u001B[43myerr\u001B[49m\u001B[38;5;241;43m=\u001B[39;49m\u001B[43myerr\u001B[49m\u001B[43m,\u001B[49m\n\u001B[1;32m   3277\u001B[0m \u001B[43m        \u001B[49m\u001B[43mxerr\u001B[49m\u001B[38;5;241;43m=\u001B[39;49m\u001B[43mxerr\u001B[49m\u001B[43m,\u001B[49m\n\u001B[1;32m   3278\u001B[0m \u001B[43m        \u001B[49m\u001B[43mfmt\u001B[49m\u001B[38;5;241;43m=\u001B[39;49m\u001B[43mfmt\u001B[49m\u001B[43m,\u001B[49m\n\u001B[1;32m   3279\u001B[0m \u001B[43m        \u001B[49m\u001B[43mecolor\u001B[49m\u001B[38;5;241;43m=\u001B[39;49m\u001B[43mecolor\u001B[49m\u001B[43m,\u001B[49m\n\u001B[1;32m   3280\u001B[0m \u001B[43m        \u001B[49m\u001B[43melinewidth\u001B[49m\u001B[38;5;241;43m=\u001B[39;49m\u001B[43melinewidth\u001B[49m\u001B[43m,\u001B[49m\n\u001B[1;32m   3281\u001B[0m \u001B[43m        \u001B[49m\u001B[43mcapsize\u001B[49m\u001B[38;5;241;43m=\u001B[39;49m\u001B[43mcapsize\u001B[49m\u001B[43m,\u001B[49m\n\u001B[1;32m   3282\u001B[0m \u001B[43m        \u001B[49m\u001B[43mbarsabove\u001B[49m\u001B[38;5;241;43m=\u001B[39;49m\u001B[43mbarsabove\u001B[49m\u001B[43m,\u001B[49m\n\u001B[1;32m   3283\u001B[0m \u001B[43m        \u001B[49m\u001B[43mlolims\u001B[49m\u001B[38;5;241;43m=\u001B[39;49m\u001B[43mlolims\u001B[49m\u001B[43m,\u001B[49m\n\u001B[1;32m   3284\u001B[0m \u001B[43m        \u001B[49m\u001B[43muplims\u001B[49m\u001B[38;5;241;43m=\u001B[39;49m\u001B[43muplims\u001B[49m\u001B[43m,\u001B[49m\n\u001B[1;32m   3285\u001B[0m \u001B[43m        \u001B[49m\u001B[43mxlolims\u001B[49m\u001B[38;5;241;43m=\u001B[39;49m\u001B[43mxlolims\u001B[49m\u001B[43m,\u001B[49m\n\u001B[1;32m   3286\u001B[0m \u001B[43m        \u001B[49m\u001B[43mxuplims\u001B[49m\u001B[38;5;241;43m=\u001B[39;49m\u001B[43mxuplims\u001B[49m\u001B[43m,\u001B[49m\n\u001B[1;32m   3287\u001B[0m \u001B[43m        \u001B[49m\u001B[43merrorevery\u001B[49m\u001B[38;5;241;43m=\u001B[39;49m\u001B[43merrorevery\u001B[49m\u001B[43m,\u001B[49m\n\u001B[1;32m   3288\u001B[0m \u001B[43m        \u001B[49m\u001B[43mcapthick\u001B[49m\u001B[38;5;241;43m=\u001B[39;49m\u001B[43mcapthick\u001B[49m\u001B[43m,\u001B[49m\n\u001B[1;32m   3289\u001B[0m \u001B[43m        \u001B[49m\u001B[38;5;241;43m*\u001B[39;49m\u001B[38;5;241;43m*\u001B[39;49m\u001B[43m(\u001B[49m\u001B[43m{\u001B[49m\u001B[38;5;124;43m\"\u001B[39;49m\u001B[38;5;124;43mdata\u001B[39;49m\u001B[38;5;124;43m\"\u001B[39;49m\u001B[43m:\u001B[49m\u001B[43m \u001B[49m\u001B[43mdata\u001B[49m\u001B[43m}\u001B[49m\u001B[43m \u001B[49m\u001B[38;5;28;43;01mif\u001B[39;49;00m\u001B[43m \u001B[49m\u001B[43mdata\u001B[49m\u001B[43m \u001B[49m\u001B[38;5;129;43;01mis\u001B[39;49;00m\u001B[43m \u001B[49m\u001B[38;5;129;43;01mnot\u001B[39;49;00m\u001B[43m \u001B[49m\u001B[38;5;28;43;01mNone\u001B[39;49;00m\u001B[43m \u001B[49m\u001B[38;5;28;43;01melse\u001B[39;49;00m\u001B[43m \u001B[49m\u001B[43m{\u001B[49m\u001B[43m}\u001B[49m\u001B[43m)\u001B[49m\u001B[43m,\u001B[49m\n\u001B[1;32m   3290\u001B[0m \u001B[43m        \u001B[49m\u001B[38;5;241;43m*\u001B[39;49m\u001B[38;5;241;43m*\u001B[39;49m\u001B[43mkwargs\u001B[49m\u001B[43m,\u001B[49m\n\u001B[1;32m   3291\u001B[0m \u001B[43m    \u001B[49m\u001B[43m)\u001B[49m\n",
      "File \u001B[0;32m/Library/Frameworks/Python.framework/Versions/3.13/lib/python3.13/site-packages/matplotlib/_api/deprecation.py:453\u001B[0m, in \u001B[0;36mmake_keyword_only.<locals>.wrapper\u001B[0;34m(*args, **kwargs)\u001B[0m\n\u001B[1;32m    447\u001B[0m \u001B[38;5;28;01mif\u001B[39;00m \u001B[38;5;28mlen\u001B[39m(args) \u001B[38;5;241m>\u001B[39m name_idx:\n\u001B[1;32m    448\u001B[0m     warn_deprecated(\n\u001B[1;32m    449\u001B[0m         since, message\u001B[38;5;241m=\u001B[39m\u001B[38;5;124m\"\u001B[39m\u001B[38;5;124mPassing the \u001B[39m\u001B[38;5;132;01m%(name)s\u001B[39;00m\u001B[38;5;124m \u001B[39m\u001B[38;5;132;01m%(obj_type)s\u001B[39;00m\u001B[38;5;124m \u001B[39m\u001B[38;5;124m\"\u001B[39m\n\u001B[1;32m    450\u001B[0m         \u001B[38;5;124m\"\u001B[39m\u001B[38;5;124mpositionally is deprecated since Matplotlib \u001B[39m\u001B[38;5;132;01m%(since)s\u001B[39;00m\u001B[38;5;124m; the \u001B[39m\u001B[38;5;124m\"\u001B[39m\n\u001B[1;32m    451\u001B[0m         \u001B[38;5;124m\"\u001B[39m\u001B[38;5;124mparameter will become keyword-only in \u001B[39m\u001B[38;5;132;01m%(removal)s\u001B[39;00m\u001B[38;5;124m.\u001B[39m\u001B[38;5;124m\"\u001B[39m,\n\u001B[1;32m    452\u001B[0m         name\u001B[38;5;241m=\u001B[39mname, obj_type\u001B[38;5;241m=\u001B[39m\u001B[38;5;124mf\u001B[39m\u001B[38;5;124m\"\u001B[39m\u001B[38;5;124mparameter of \u001B[39m\u001B[38;5;132;01m{\u001B[39;00mfunc\u001B[38;5;241m.\u001B[39m\u001B[38;5;18m__name__\u001B[39m\u001B[38;5;132;01m}\u001B[39;00m\u001B[38;5;124m()\u001B[39m\u001B[38;5;124m\"\u001B[39m)\n\u001B[0;32m--> 453\u001B[0m \u001B[38;5;28;01mreturn\u001B[39;00m \u001B[43mfunc\u001B[49m\u001B[43m(\u001B[49m\u001B[38;5;241;43m*\u001B[39;49m\u001B[43margs\u001B[49m\u001B[43m,\u001B[49m\u001B[43m \u001B[49m\u001B[38;5;241;43m*\u001B[39;49m\u001B[38;5;241;43m*\u001B[39;49m\u001B[43mkwargs\u001B[49m\u001B[43m)\u001B[49m\n",
      "File \u001B[0;32m/Library/Frameworks/Python.framework/Versions/3.13/lib/python3.13/site-packages/matplotlib/__init__.py:1521\u001B[0m, in \u001B[0;36m_preprocess_data.<locals>.inner\u001B[0;34m(ax, data, *args, **kwargs)\u001B[0m\n\u001B[1;32m   1518\u001B[0m \u001B[38;5;129m@functools\u001B[39m\u001B[38;5;241m.\u001B[39mwraps(func)\n\u001B[1;32m   1519\u001B[0m \u001B[38;5;28;01mdef\u001B[39;00m\u001B[38;5;250m \u001B[39m\u001B[38;5;21minner\u001B[39m(ax, \u001B[38;5;241m*\u001B[39margs, data\u001B[38;5;241m=\u001B[39m\u001B[38;5;28;01mNone\u001B[39;00m, \u001B[38;5;241m*\u001B[39m\u001B[38;5;241m*\u001B[39mkwargs):\n\u001B[1;32m   1520\u001B[0m     \u001B[38;5;28;01mif\u001B[39;00m data \u001B[38;5;129;01mis\u001B[39;00m \u001B[38;5;28;01mNone\u001B[39;00m:\n\u001B[0;32m-> 1521\u001B[0m         \u001B[38;5;28;01mreturn\u001B[39;00m \u001B[43mfunc\u001B[49m\u001B[43m(\u001B[49m\n\u001B[1;32m   1522\u001B[0m \u001B[43m            \u001B[49m\u001B[43max\u001B[49m\u001B[43m,\u001B[49m\n\u001B[1;32m   1523\u001B[0m \u001B[43m            \u001B[49m\u001B[38;5;241;43m*\u001B[39;49m\u001B[38;5;28;43mmap\u001B[39;49m\u001B[43m(\u001B[49m\u001B[43mcbook\u001B[49m\u001B[38;5;241;43m.\u001B[39;49m\u001B[43msanitize_sequence\u001B[49m\u001B[43m,\u001B[49m\u001B[43m \u001B[49m\u001B[43margs\u001B[49m\u001B[43m)\u001B[49m\u001B[43m,\u001B[49m\n\u001B[1;32m   1524\u001B[0m \u001B[43m            \u001B[49m\u001B[38;5;241;43m*\u001B[39;49m\u001B[38;5;241;43m*\u001B[39;49m\u001B[43m{\u001B[49m\u001B[43mk\u001B[49m\u001B[43m:\u001B[49m\u001B[43m \u001B[49m\u001B[43mcbook\u001B[49m\u001B[38;5;241;43m.\u001B[39;49m\u001B[43msanitize_sequence\u001B[49m\u001B[43m(\u001B[49m\u001B[43mv\u001B[49m\u001B[43m)\u001B[49m\u001B[43m \u001B[49m\u001B[38;5;28;43;01mfor\u001B[39;49;00m\u001B[43m \u001B[49m\u001B[43mk\u001B[49m\u001B[43m,\u001B[49m\u001B[43m \u001B[49m\u001B[43mv\u001B[49m\u001B[43m \u001B[49m\u001B[38;5;129;43;01min\u001B[39;49;00m\u001B[43m \u001B[49m\u001B[43mkwargs\u001B[49m\u001B[38;5;241;43m.\u001B[39;49m\u001B[43mitems\u001B[49m\u001B[43m(\u001B[49m\u001B[43m)\u001B[49m\u001B[43m}\u001B[49m\u001B[43m)\u001B[49m\n\u001B[1;32m   1526\u001B[0m     bound \u001B[38;5;241m=\u001B[39m new_sig\u001B[38;5;241m.\u001B[39mbind(ax, \u001B[38;5;241m*\u001B[39margs, \u001B[38;5;241m*\u001B[39m\u001B[38;5;241m*\u001B[39mkwargs)\n\u001B[1;32m   1527\u001B[0m     auto_label \u001B[38;5;241m=\u001B[39m (bound\u001B[38;5;241m.\u001B[39marguments\u001B[38;5;241m.\u001B[39mget(label_namer)\n\u001B[1;32m   1528\u001B[0m                   \u001B[38;5;129;01mor\u001B[39;00m bound\u001B[38;5;241m.\u001B[39mkwargs\u001B[38;5;241m.\u001B[39mget(label_namer))\n",
      "File \u001B[0;32m/Library/Frameworks/Python.framework/Versions/3.13/lib/python3.13/site-packages/matplotlib/axes/_axes.py:3687\u001B[0m, in \u001B[0;36mAxes.errorbar\u001B[0;34m(self, x, y, yerr, xerr, fmt, ecolor, elinewidth, capsize, barsabove, lolims, uplims, xlolims, xuplims, errorevery, capthick, **kwargs)\u001B[0m\n\u001B[1;32m   3685\u001B[0m x, y \u001B[38;5;241m=\u001B[39m np\u001B[38;5;241m.\u001B[39matleast_1d(x, y)  \u001B[38;5;66;03m# Make sure all the args are iterable.\u001B[39;00m\n\u001B[1;32m   3686\u001B[0m \u001B[38;5;28;01mif\u001B[39;00m \u001B[38;5;28mlen\u001B[39m(x) \u001B[38;5;241m!=\u001B[39m \u001B[38;5;28mlen\u001B[39m(y):\n\u001B[0;32m-> 3687\u001B[0m     \u001B[38;5;28;01mraise\u001B[39;00m \u001B[38;5;167;01mValueError\u001B[39;00m(\u001B[38;5;124m\"\u001B[39m\u001B[38;5;124m'\u001B[39m\u001B[38;5;124mx\u001B[39m\u001B[38;5;124m'\u001B[39m\u001B[38;5;124m and \u001B[39m\u001B[38;5;124m'\u001B[39m\u001B[38;5;124my\u001B[39m\u001B[38;5;124m'\u001B[39m\u001B[38;5;124m must have the same size\u001B[39m\u001B[38;5;124m\"\u001B[39m)\n\u001B[1;32m   3689\u001B[0m everymask \u001B[38;5;241m=\u001B[39m \u001B[38;5;28mself\u001B[39m\u001B[38;5;241m.\u001B[39m_errorevery_to_mask(x, errorevery)\n\u001B[1;32m   3691\u001B[0m label \u001B[38;5;241m=\u001B[39m kwargs\u001B[38;5;241m.\u001B[39mpop(\u001B[38;5;124m\"\u001B[39m\u001B[38;5;124mlabel\u001B[39m\u001B[38;5;124m\"\u001B[39m, \u001B[38;5;28;01mNone\u001B[39;00m)\n",
      "\u001B[0;31mValueError\u001B[0m: 'x' and 'y' must have the same size"
     ]
    },
    {
     "data": {
      "text/plain": [
       "<Figure size 1000x600 with 1 Axes>"
      ],
      "image/png": "[encoded data removed]"
     },
     "metadata": {},
     "output_type": "display_data"
    }
   ],
   "execution_count": 13
  },
  {
   "metadata": {
    "ExecuteTime": {
     "end_time": "2025-03-16T15:45:12.455920Z",
     "start_time": "2025-03-16T15:45:07.391157Z"
    }
   },
   "cell_type": "code",
   "source": [
    "from sklearn.metrics import accuracy_score\n",
    "\n",
    "# Load the CSV file\n",
    "gene_matrix = pd.read_csv(\n",
    "    '/Users/hilleldravish/Library/CloudStorage/GoogleDrive-darvish.hillel@mail.huji.ac.il/My Drive/CBIO-HACK/Data/GeneMatrix/GeneMatrix-Healthy.csv'\n",
    ").T\n",
    "\n",
    "# Set the first row as column names\n",
    "gene_matrix.columns = gene_matrix.iloc[0]  # Use the first row as headers\n",
    "gene_matrix = gene_matrix[1:]  # Drop the first row (now it is the header)\n",
    "\n",
    "# Reset the index for clarity (optional)\n",
    "gene_matrix.reset_index(drop=True, inplace=True)\n",
    "\n",
    "print(gene_matrix)\n",
    "results_df = pd.read_csv('sick_sick_feature_genes.csv')\n",
    "\n",
    "# Step 1: Associate genes with comparisons\n",
    "sorted_results = results_df.sort_values('P_value').head(50)\n",
    "selected_genes = sorted_results['Gene'].unique()\n",
    "comparisons = sorted_results['Comparison'].unique()\n",
    "\n",
    "# Create a dictionary mapping comparisons to their associated genes\n",
    "comparison_gene_map = {\n",
    "    comparison: sorted_results[sorted_results['Comparison'] == comparison]['Gene'].unique()\n",
    "    for comparison in comparisons\n",
    "}\n",
    "\n",
    "# Extract relevant features\n",
    "features = gene_matrix[selected_genes]\n",
    "\n",
    "final_predictions = []\n",
    "X_test = features\n",
    "\n",
    "# Iterate through each sample in the test set\n",
    "for idx in range(X_test.shape[0]):\n",
    "    sample = X_test.iloc[idx]  # Extract the sample\n",
    "    max_prob = -np.inf\n",
    "    selected_classifier = None\n",
    "    selected_prediction = None\n",
    "\n",
    "    # Iterate through all classifiers\n",
    "    for comparison, model in models:\n",
    "        genes = comparison_gene_map[comparison]  # Genes used by this classifier\n",
    "        sample_genes = sample[genes].to_frame().T  # Convert Series to 2D DataFrame\n",
    "\n",
    "        # Get the probability for the positive class\n",
    "        prob = model.predict_proba(sample_genes)[0][1]  # Probability of class 1\n",
    "        print(prob, comparison)\n",
    "        # If this classifier gives a higher probability, select it\n",
    "        if prob > max_prob:\n",
    "            max_prob = prob\n",
    "            selected_classifier = comparison\n",
    "            selected_prediction = comparison.split(' vs ')[0] # model.predict(sample_genes)[0]\n",
    "    #print(max_prob, selected_classifier, selected_prediction, \"real: \", true_label)\n",
    "    # Store the selected prediction\n",
    "    final_predictions.append(selected_prediction)\n",
    "    "
   ],
   "id": "e1b51fd16cd7ab93",
   "outputs": [
    {
     "name": "stdout",
     "output_type": "stream",
     "text": [
      "GeneName    SAMD11      NOC2L     KLHL17    PLEKHN1       HES4      ISG15  \\\n",
      "0         2.266107  54.876829  54.962988   6.577308   6.054255  32.854846   \n",
      "1         0.398634  44.190406    44.2977   10.71473  10.281409    35.3875   \n",
      "2              0.0  52.327717  52.594518  14.816748  24.885035  40.745912   \n",
      "3         4.674555  55.865142  56.045138  22.492739   3.809616  40.409671   \n",
      "4         4.556869   65.74435  65.781865   7.688924   8.603675  34.262132   \n",
      "..             ...        ...        ...        ...        ...        ...   \n",
      "710       1.973351  74.206933  74.084047  11.831534  11.598946  38.082133   \n",
      "711       5.058504  73.086963  73.897093   16.13725   7.928288  36.252907   \n",
      "712       2.093538  78.689456  79.365987  12.501374  13.034866  25.205239   \n",
      "713       1.884005  76.001373  77.374186  11.976518    9.24622  22.677253   \n",
      "714            0.0  82.942316  84.330552  12.312589   7.343834  29.230376   \n",
      "\n",
      "GeneName       AGRN    RNF223   C1orf159    TTLL10  ...         F8      F8A1  \\\n",
      "0         28.108176       0.0  49.982418  0.726609  ...   18.07911   0.53045   \n",
      "1         30.814389  0.287896  46.252063       0.0  ...  22.432166  0.522253   \n",
      "2         32.377482       0.0  40.808923       0.0  ...  29.854739       0.0   \n",
      "3         30.076328       0.0  60.648828       0.0  ...  21.149348  3.250633   \n",
      "4         28.278693       0.0  50.855259       0.0  ...  12.489223       0.0   \n",
      "..              ...       ...        ...       ...  ...        ...       ...   \n",
      "710        38.10695  0.739283  55.008443       0.0  ...   25.85538  1.061056   \n",
      "711       37.886553  0.033391  50.743309       0.0  ...  15.334922  0.290341   \n",
      "712       31.916772  0.510678  48.464804  0.090789  ...  21.061811  2.185584   \n",
      "713        30.77709  0.428887  42.635702       0.0  ...  18.544841  2.485786   \n",
      "714       34.303732  0.516327  51.252421       0.0  ...  27.568552  6.481485   \n",
      "\n",
      "GeneName     FUNDC2       CMC4      MTCP1      BRCC3       VBP1     RAB39B  \\\n",
      "0         16.718272   26.43914  26.365888  26.447598  20.098632   6.770316   \n",
      "1         21.706409  27.369061  27.303042  27.374878  24.967062   9.652865   \n",
      "2         24.078956  24.212956  24.020494  23.504462  32.819535   6.211644   \n",
      "3         17.761699  28.613049  28.459725  27.780596   28.55068  13.796358   \n",
      "4         13.319358  38.793384  38.694575  38.769276  18.198143  11.515924   \n",
      "..              ...        ...        ...        ...        ...        ...   \n",
      "710       23.874496  28.518474  28.388689  29.495914  25.898591  15.233056   \n",
      "711       14.538587  31.574243  31.763549  31.514335  29.284972   14.10179   \n",
      "712       19.600793  29.851971  29.770197  30.540724  31.631258   8.853419   \n",
      "713       16.430436  30.653879  30.752028  30.807277  27.612718  11.358612   \n",
      "714       21.990574  29.425474  29.352832  29.382642  22.048239   7.853425   \n",
      "\n",
      "GeneName     CLIC2      TMLHE  \n",
      "0         5.199122  37.980215  \n",
      "1         9.362568  46.507394  \n",
      "2         6.763802  36.280397  \n",
      "3         4.423269  29.446542  \n",
      "4         8.913105  38.987349  \n",
      "..             ...        ...  \n",
      "710            0.0  31.811646  \n",
      "711       5.081259  45.576433  \n",
      "712       2.490326  40.946474  \n",
      "713       2.023565  42.915658  \n",
      "714       1.792837  40.989709  \n",
      "\n",
      "[715 rows x 18182 columns]\n"
     ]
    },
    {
     "ename": "FileNotFoundError",
     "evalue": "[Errno 2] No such file or directory: 'sick_sick_feature_genes.csv'",
     "output_type": "error",
     "traceback": [
      "\u001B[0;31m---------------------------------------------------------------------------\u001B[0m",
      "\u001B[0;31mFileNotFoundError\u001B[0m                         Traceback (most recent call last)",
      "Cell \u001B[0;32mIn[14], line 16\u001B[0m\n\u001B[1;32m     13\u001B[0m gene_matrix\u001B[38;5;241m.\u001B[39mreset_index(drop\u001B[38;5;241m=\u001B[39m\u001B[38;5;28;01mTrue\u001B[39;00m, inplace\u001B[38;5;241m=\u001B[39m\u001B[38;5;28;01mTrue\u001B[39;00m)\n\u001B[1;32m     15\u001B[0m \u001B[38;5;28mprint\u001B[39m(gene_matrix)\n\u001B[0;32m---> 16\u001B[0m results_df \u001B[38;5;241m=\u001B[39m \u001B[43mpd\u001B[49m\u001B[38;5;241;43m.\u001B[39;49m\u001B[43mread_csv\u001B[49m\u001B[43m(\u001B[49m\u001B[38;5;124;43m'\u001B[39;49m\u001B[38;5;124;43msick_sick_feature_genes.csv\u001B[39;49m\u001B[38;5;124;43m'\u001B[39;49m\u001B[43m)\u001B[49m\n\u001B[1;32m     18\u001B[0m \u001B[38;5;66;03m# Step 1: Associate genes with comparisons\u001B[39;00m\n\u001B[1;32m     19\u001B[0m sorted_results \u001B[38;5;241m=\u001B[39m results_df\u001B[38;5;241m.\u001B[39msort_values(\u001B[38;5;124m'\u001B[39m\u001B[38;5;124mP_value\u001B[39m\u001B[38;5;124m'\u001B[39m)\u001B[38;5;241m.\u001B[39mhead(\u001B[38;5;241m50\u001B[39m)\n",
      "File \u001B[0;32m/Library/Frameworks/Python.framework/Versions/3.13/lib/python3.13/site-packages/pandas/io/parsers/readers.py:1026\u001B[0m, in \u001B[0;36mread_csv\u001B[0;34m(filepath_or_buffer, sep, delimiter, header, names, index_col, usecols, dtype, engine, converters, true_values, false_values, skipinitialspace, skiprows, skipfooter, nrows, na_values, keep_default_na, na_filter, verbose, skip_blank_lines, parse_dates, infer_datetime_format, keep_date_col, date_parser, date_format, dayfirst, cache_dates, iterator, chunksize, compression, thousands, decimal, lineterminator, quotechar, quoting, doublequote, escapechar, comment, encoding, encoding_errors, dialect, on_bad_lines, delim_whitespace, low_memory, memory_map, float_precision, storage_options, dtype_backend)\u001B[0m\n\u001B[1;32m   1013\u001B[0m kwds_defaults \u001B[38;5;241m=\u001B[39m _refine_defaults_read(\n\u001B[1;32m   1014\u001B[0m     dialect,\n\u001B[1;32m   1015\u001B[0m     delimiter,\n\u001B[0;32m   (...)\u001B[0m\n\u001B[1;32m   1022\u001B[0m     dtype_backend\u001B[38;5;241m=\u001B[39mdtype_backend,\n\u001B[1;32m   1023\u001B[0m )\n\u001B[1;32m   1024\u001B[0m kwds\u001B[38;5;241m.\u001B[39mupdate(kwds_defaults)\n\u001B[0;32m-> 1026\u001B[0m \u001B[38;5;28;01mreturn\u001B[39;00m \u001B[43m_read\u001B[49m\u001B[43m(\u001B[49m\u001B[43mfilepath_or_buffer\u001B[49m\u001B[43m,\u001B[49m\u001B[43m \u001B[49m\u001B[43mkwds\u001B[49m\u001B[43m)\u001B[49m\n",
      "File \u001B[0;32m/Library/Frameworks/Python.framework/Versions/3.13/lib/python3.13/site-packages/pandas/io/parsers/readers.py:620\u001B[0m, in \u001B[0;36m_read\u001B[0;34m(filepath_or_buffer, kwds)\u001B[0m\n\u001B[1;32m    617\u001B[0m _validate_names(kwds\u001B[38;5;241m.\u001B[39mget(\u001B[38;5;124m\"\u001B[39m\u001B[38;5;124mnames\u001B[39m\u001B[38;5;124m\"\u001B[39m, \u001B[38;5;28;01mNone\u001B[39;00m))\n\u001B[1;32m    619\u001B[0m \u001B[38;5;66;03m# Create the parser.\u001B[39;00m\n\u001B[0;32m--> 620\u001B[0m parser \u001B[38;5;241m=\u001B[39m \u001B[43mTextFileReader\u001B[49m\u001B[43m(\u001B[49m\u001B[43mfilepath_or_buffer\u001B[49m\u001B[43m,\u001B[49m\u001B[43m \u001B[49m\u001B[38;5;241;43m*\u001B[39;49m\u001B[38;5;241;43m*\u001B[39;49m\u001B[43mkwds\u001B[49m\u001B[43m)\u001B[49m\n\u001B[1;32m    622\u001B[0m \u001B[38;5;28;01mif\u001B[39;00m chunksize \u001B[38;5;129;01mor\u001B[39;00m iterator:\n\u001B[1;32m    623\u001B[0m     \u001B[38;5;28;01mreturn\u001B[39;00m parser\n",
      "File \u001B[0;32m/Library/Frameworks/Python.framework/Versions/3.13/lib/python3.13/site-packages/pandas/io/parsers/readers.py:1620\u001B[0m, in \u001B[0;36mTextFileReader.__init__\u001B[0;34m(self, f, engine, **kwds)\u001B[0m\n\u001B[1;32m   1617\u001B[0m     \u001B[38;5;28mself\u001B[39m\u001B[38;5;241m.\u001B[39moptions[\u001B[38;5;124m\"\u001B[39m\u001B[38;5;124mhas_index_names\u001B[39m\u001B[38;5;124m\"\u001B[39m] \u001B[38;5;241m=\u001B[39m kwds[\u001B[38;5;124m\"\u001B[39m\u001B[38;5;124mhas_index_names\u001B[39m\u001B[38;5;124m\"\u001B[39m]\n\u001B[1;32m   1619\u001B[0m \u001B[38;5;28mself\u001B[39m\u001B[38;5;241m.\u001B[39mhandles: IOHandles \u001B[38;5;241m|\u001B[39m \u001B[38;5;28;01mNone\u001B[39;00m \u001B[38;5;241m=\u001B[39m \u001B[38;5;28;01mNone\u001B[39;00m\n\u001B[0;32m-> 1620\u001B[0m \u001B[38;5;28mself\u001B[39m\u001B[38;5;241m.\u001B[39m_engine \u001B[38;5;241m=\u001B[39m \u001B[38;5;28;43mself\u001B[39;49m\u001B[38;5;241;43m.\u001B[39;49m\u001B[43m_make_engine\u001B[49m\u001B[43m(\u001B[49m\u001B[43mf\u001B[49m\u001B[43m,\u001B[49m\u001B[43m \u001B[49m\u001B[38;5;28;43mself\u001B[39;49m\u001B[38;5;241;43m.\u001B[39;49m\u001B[43mengine\u001B[49m\u001B[43m)\u001B[49m\n",
      "File \u001B[0;32m/Library/Frameworks/Python.framework/Versions/3.13/lib/python3.13/site-packages/pandas/io/parsers/readers.py:1880\u001B[0m, in \u001B[0;36mTextFileReader._make_engine\u001B[0;34m(self, f, engine)\u001B[0m\n\u001B[1;32m   1878\u001B[0m     \u001B[38;5;28;01mif\u001B[39;00m \u001B[38;5;124m\"\u001B[39m\u001B[38;5;124mb\u001B[39m\u001B[38;5;124m\"\u001B[39m \u001B[38;5;129;01mnot\u001B[39;00m \u001B[38;5;129;01min\u001B[39;00m mode:\n\u001B[1;32m   1879\u001B[0m         mode \u001B[38;5;241m+\u001B[39m\u001B[38;5;241m=\u001B[39m \u001B[38;5;124m\"\u001B[39m\u001B[38;5;124mb\u001B[39m\u001B[38;5;124m\"\u001B[39m\n\u001B[0;32m-> 1880\u001B[0m \u001B[38;5;28mself\u001B[39m\u001B[38;5;241m.\u001B[39mhandles \u001B[38;5;241m=\u001B[39m \u001B[43mget_handle\u001B[49m\u001B[43m(\u001B[49m\n\u001B[1;32m   1881\u001B[0m \u001B[43m    \u001B[49m\u001B[43mf\u001B[49m\u001B[43m,\u001B[49m\n\u001B[1;32m   1882\u001B[0m \u001B[43m    \u001B[49m\u001B[43mmode\u001B[49m\u001B[43m,\u001B[49m\n\u001B[1;32m   1883\u001B[0m \u001B[43m    \u001B[49m\u001B[43mencoding\u001B[49m\u001B[38;5;241;43m=\u001B[39;49m\u001B[38;5;28;43mself\u001B[39;49m\u001B[38;5;241;43m.\u001B[39;49m\u001B[43moptions\u001B[49m\u001B[38;5;241;43m.\u001B[39;49m\u001B[43mget\u001B[49m\u001B[43m(\u001B[49m\u001B[38;5;124;43m\"\u001B[39;49m\u001B[38;5;124;43mencoding\u001B[39;49m\u001B[38;5;124;43m\"\u001B[39;49m\u001B[43m,\u001B[49m\u001B[43m \u001B[49m\u001B[38;5;28;43;01mNone\u001B[39;49;00m\u001B[43m)\u001B[49m\u001B[43m,\u001B[49m\n\u001B[1;32m   1884\u001B[0m \u001B[43m    \u001B[49m\u001B[43mcompression\u001B[49m\u001B[38;5;241;43m=\u001B[39;49m\u001B[38;5;28;43mself\u001B[39;49m\u001B[38;5;241;43m.\u001B[39;49m\u001B[43moptions\u001B[49m\u001B[38;5;241;43m.\u001B[39;49m\u001B[43mget\u001B[49m\u001B[43m(\u001B[49m\u001B[38;5;124;43m\"\u001B[39;49m\u001B[38;5;124;43mcompression\u001B[39;49m\u001B[38;5;124;43m\"\u001B[39;49m\u001B[43m,\u001B[49m\u001B[43m \u001B[49m\u001B[38;5;28;43;01mNone\u001B[39;49;00m\u001B[43m)\u001B[49m\u001B[43m,\u001B[49m\n\u001B[1;32m   1885\u001B[0m \u001B[43m    \u001B[49m\u001B[43mmemory_map\u001B[49m\u001B[38;5;241;43m=\u001B[39;49m\u001B[38;5;28;43mself\u001B[39;49m\u001B[38;5;241;43m.\u001B[39;49m\u001B[43moptions\u001B[49m\u001B[38;5;241;43m.\u001B[39;49m\u001B[43mget\u001B[49m\u001B[43m(\u001B[49m\u001B[38;5;124;43m\"\u001B[39;49m\u001B[38;5;124;43mmemory_map\u001B[39;49m\u001B[38;5;124;43m\"\u001B[39;49m\u001B[43m,\u001B[49m\u001B[43m \u001B[49m\u001B[38;5;28;43;01mFalse\u001B[39;49;00m\u001B[43m)\u001B[49m\u001B[43m,\u001B[49m\n\u001B[1;32m   1886\u001B[0m \u001B[43m    \u001B[49m\u001B[43mis_text\u001B[49m\u001B[38;5;241;43m=\u001B[39;49m\u001B[43mis_text\u001B[49m\u001B[43m,\u001B[49m\n\u001B[1;32m   1887\u001B[0m \u001B[43m    \u001B[49m\u001B[43merrors\u001B[49m\u001B[38;5;241;43m=\u001B[39;49m\u001B[38;5;28;43mself\u001B[39;49m\u001B[38;5;241;43m.\u001B[39;49m\u001B[43moptions\u001B[49m\u001B[38;5;241;43m.\u001B[39;49m\u001B[43mget\u001B[49m\u001B[43m(\u001B[49m\u001B[38;5;124;43m\"\u001B[39;49m\u001B[38;5;124;43mencoding_errors\u001B[39;49m\u001B[38;5;124;43m\"\u001B[39;49m\u001B[43m,\u001B[49m\u001B[43m \u001B[49m\u001B[38;5;124;43m\"\u001B[39;49m\u001B[38;5;124;43mstrict\u001B[39;49m\u001B[38;5;124;43m\"\u001B[39;49m\u001B[43m)\u001B[49m\u001B[43m,\u001B[49m\n\u001B[1;32m   1888\u001B[0m \u001B[43m    \u001B[49m\u001B[43mstorage_options\u001B[49m\u001B[38;5;241;43m=\u001B[39;49m\u001B[38;5;28;43mself\u001B[39;49m\u001B[38;5;241;43m.\u001B[39;49m\u001B[43moptions\u001B[49m\u001B[38;5;241;43m.\u001B[39;49m\u001B[43mget\u001B[49m\u001B[43m(\u001B[49m\u001B[38;5;124;43m\"\u001B[39;49m\u001B[38;5;124;43mstorage_options\u001B[39;49m\u001B[38;5;124;43m\"\u001B[39;49m\u001B[43m,\u001B[49m\u001B[43m \u001B[49m\u001B[38;5;28;43;01mNone\u001B[39;49;00m\u001B[43m)\u001B[49m\u001B[43m,\u001B[49m\n\u001B[1;32m   1889\u001B[0m \u001B[43m\u001B[49m\u001B[43m)\u001B[49m\n\u001B[1;32m   1890\u001B[0m \u001B[38;5;28;01massert\u001B[39;00m \u001B[38;5;28mself\u001B[39m\u001B[38;5;241m.\u001B[39mhandles \u001B[38;5;129;01mis\u001B[39;00m \u001B[38;5;129;01mnot\u001B[39;00m \u001B[38;5;28;01mNone\u001B[39;00m\n\u001B[1;32m   1891\u001B[0m f \u001B[38;5;241m=\u001B[39m \u001B[38;5;28mself\u001B[39m\u001B[38;5;241m.\u001B[39mhandles\u001B[38;5;241m.\u001B[39mhandle\n",
      "File \u001B[0;32m/Library/Frameworks/Python.framework/Versions/3.13/lib/python3.13/site-packages/pandas/io/common.py:873\u001B[0m, in \u001B[0;36mget_handle\u001B[0;34m(path_or_buf, mode, encoding, compression, memory_map, is_text, errors, storage_options)\u001B[0m\n\u001B[1;32m    868\u001B[0m \u001B[38;5;28;01melif\u001B[39;00m \u001B[38;5;28misinstance\u001B[39m(handle, \u001B[38;5;28mstr\u001B[39m):\n\u001B[1;32m    869\u001B[0m     \u001B[38;5;66;03m# Check whether the filename is to be opened in binary mode.\u001B[39;00m\n\u001B[1;32m    870\u001B[0m     \u001B[38;5;66;03m# Binary mode does not support 'encoding' and 'newline'.\u001B[39;00m\n\u001B[1;32m    871\u001B[0m     \u001B[38;5;28;01mif\u001B[39;00m ioargs\u001B[38;5;241m.\u001B[39mencoding \u001B[38;5;129;01mand\u001B[39;00m \u001B[38;5;124m\"\u001B[39m\u001B[38;5;124mb\u001B[39m\u001B[38;5;124m\"\u001B[39m \u001B[38;5;129;01mnot\u001B[39;00m \u001B[38;5;129;01min\u001B[39;00m ioargs\u001B[38;5;241m.\u001B[39mmode:\n\u001B[1;32m    872\u001B[0m         \u001B[38;5;66;03m# Encoding\u001B[39;00m\n\u001B[0;32m--> 873\u001B[0m         handle \u001B[38;5;241m=\u001B[39m \u001B[38;5;28;43mopen\u001B[39;49m\u001B[43m(\u001B[49m\n\u001B[1;32m    874\u001B[0m \u001B[43m            \u001B[49m\u001B[43mhandle\u001B[49m\u001B[43m,\u001B[49m\n\u001B[1;32m    875\u001B[0m \u001B[43m            \u001B[49m\u001B[43mioargs\u001B[49m\u001B[38;5;241;43m.\u001B[39;49m\u001B[43mmode\u001B[49m\u001B[43m,\u001B[49m\n\u001B[1;32m    876\u001B[0m \u001B[43m            \u001B[49m\u001B[43mencoding\u001B[49m\u001B[38;5;241;43m=\u001B[39;49m\u001B[43mioargs\u001B[49m\u001B[38;5;241;43m.\u001B[39;49m\u001B[43mencoding\u001B[49m\u001B[43m,\u001B[49m\n\u001B[1;32m    877\u001B[0m \u001B[43m            \u001B[49m\u001B[43merrors\u001B[49m\u001B[38;5;241;43m=\u001B[39;49m\u001B[43merrors\u001B[49m\u001B[43m,\u001B[49m\n\u001B[1;32m    878\u001B[0m \u001B[43m            \u001B[49m\u001B[43mnewline\u001B[49m\u001B[38;5;241;43m=\u001B[39;49m\u001B[38;5;124;43m\"\u001B[39;49m\u001B[38;5;124;43m\"\u001B[39;49m\u001B[43m,\u001B[49m\n\u001B[1;32m    879\u001B[0m \u001B[43m        \u001B[49m\u001B[43m)\u001B[49m\n\u001B[1;32m    880\u001B[0m     \u001B[38;5;28;01melse\u001B[39;00m:\n\u001B[1;32m    881\u001B[0m         \u001B[38;5;66;03m# Binary mode\u001B[39;00m\n\u001B[1;32m    882\u001B[0m         handle \u001B[38;5;241m=\u001B[39m \u001B[38;5;28mopen\u001B[39m(handle, ioargs\u001B[38;5;241m.\u001B[39mmode)\n",
      "\u001B[0;31mFileNotFoundError\u001B[0m: [Errno 2] No such file or directory: 'sick_sick_feature_genes.csv'"
     ]
    }
   ],
   "execution_count": 14
  },
  {
   "metadata": {
    "ExecuteTime": {
     "end_time": "2025-03-16T15:45:15.400060Z",
     "start_time": "2025-03-16T15:45:15.189043Z"
    }
   },
   "cell_type": "code",
   "source": [
    "import matplotlib.pyplot as plt\n",
    "import seaborn as sns\n",
    "\n",
    "# Plot the histogram of final predictions\n",
    "plt.figure(figsize=(8, 6))\n",
    "sns.histplot(final_predictions, bins=len(set(final_predictions)), discrete=True, color=\"#ffdbac\")\n",
    "plt.title(\"Histogram of Final Predictions\", fontsize=10)\n",
    "plt.xlabel(\"Predicted Classes\", fontsize=8)\n",
    "plt.ylabel(\"Frequency\", fontsize=8)\n",
    "plt.xticks(fontsize=8)\n",
    "plt.yticks(fontsize=8)\n",
    "plt.grid(axis=\"y\", linestyle=\"--\")\n",
    "plt.show()"
   ],
   "id": "277d5a050a9fddb2",
   "outputs": [
    {
     "data": {
      "text/plain": [
       "<Figure size 800x600 with 1 Axes>"
      ],
      "image/png": "[encoded data removed]"
     },
     "metadata": {},
     "output_type": "display_data"
    }
   ],
   "execution_count": 15
  },
  {
   "metadata": {
    "ExecuteTime": {
     "end_time": "2025-03-16T15:42:49.593242Z",
     "start_time": "2025-01-28T22:36:21.867153Z"
    }
   },
   "cell_type": "code",
   "source": [
    "from matplotlib import pyplot as plt\n",
    "\n",
    "X = gene_matrix[selected_genes]\n",
    "y = gene_matrix['Diagnosis']  # Multiclass labels\n",
    "\n",
    "for comparison, genes in comparison_gene_map.items():\n",
    "    print(f\"Training model for {comparison} with genes: {genes}\")\n",
    "    subIn = X[genes]\n",
    "    selModel = models[comparison]\n",
    "    target_class = comparison.split(' vs ')[0]\n",
    "    subyTrain = np.where(y == target_class, 1, 0)  # 1 for target class, 0 for rest\n",
    "    predi = selModel.predict(subIn)\n",
    "    print(predi)\n",
    "\n",
    "\n",
    "\n",
    "# # Step 3: Combine models into an ensemble\n",
    "# ensemble = VotingClassifier(estimators=models, voting='hard')\n",
    "# \n",
    "# \n",
    "# \n",
    "# # Evaluate ensemble\n",
    "# y_pred = ensemble.predict(X_test)\n",
    "# print(\"Ensemble classification report:\\n\", classification_report(y_test, y_pred))\n"
   ],
   "id": "7b2b36e48261e96a",
   "outputs": [
    {
     "name": "stdout",
     "output_type": "stream",
     "text": [
      "Training model for MASH vs Rest with genes: ['POLR1E' 'SLC37A1' 'BTLA' 'APOL4' 'RTN1' 'IKBKE' 'SLC46A1' 'SMYD5' 'SKIL'\n",
      " 'PHB2' 'EMG1' 'CD27' 'AKAP8L' 'ZKSCAN8' 'BCL9L' 'PARP1' 'APOBEC3H'\n",
      " 'HRASLS5' 'PDCD1' 'RARRES3' 'C15orf54' 'CMTM6' 'TIGIT' 'INTS4' 'EYA2'\n",
      " 'ZNF99' 'ACHE' 'COPZ1' 'PTPRCAP']\n"
     ]
    },
    {
     "ename": "TypeError",
     "evalue": "list indices must be integers or slices, not str",
     "output_type": "error",
     "traceback": [
      "\u001B[0;31m---------------------------------------------------------------------------\u001B[0m",
      "\u001B[0;31mTypeError\u001B[0m                                 Traceback (most recent call last)",
      "Cell \u001B[0;32mIn[25], line 9\u001B[0m\n\u001B[1;32m      7\u001B[0m \u001B[38;5;28mprint\u001B[39m(\u001B[38;5;124mf\u001B[39m\u001B[38;5;124m\"\u001B[39m\u001B[38;5;124mTraining model for \u001B[39m\u001B[38;5;132;01m{\u001B[39;00mcomparison\u001B[38;5;132;01m}\u001B[39;00m\u001B[38;5;124m with genes: \u001B[39m\u001B[38;5;132;01m{\u001B[39;00mgenes\u001B[38;5;132;01m}\u001B[39;00m\u001B[38;5;124m\"\u001B[39m)\n\u001B[1;32m      8\u001B[0m subIn \u001B[38;5;241m=\u001B[39m X[genes]\n\u001B[0;32m----> 9\u001B[0m selModel \u001B[38;5;241m=\u001B[39m \u001B[43mmodels\u001B[49m\u001B[43m[\u001B[49m\u001B[43mcomparison\u001B[49m\u001B[43m]\u001B[49m\n\u001B[1;32m     10\u001B[0m target_class \u001B[38;5;241m=\u001B[39m comparison\u001B[38;5;241m.\u001B[39msplit(\u001B[38;5;124m'\u001B[39m\u001B[38;5;124m vs \u001B[39m\u001B[38;5;124m'\u001B[39m)[\u001B[38;5;241m0\u001B[39m]\n\u001B[1;32m     11\u001B[0m subyTrain \u001B[38;5;241m=\u001B[39m np\u001B[38;5;241m.\u001B[39mwhere(y \u001B[38;5;241m==\u001B[39m target_class, \u001B[38;5;241m1\u001B[39m, \u001B[38;5;241m0\u001B[39m)  \u001B[38;5;66;03m# 1 for target class, 0 for rest\u001B[39;00m\n",
      "\u001B[0;31mTypeError\u001B[0m: list indices must be integers or slices, not str"
     ]
    }
   ],
   "execution_count": 25
  },
  {
   "metadata": {
    "ExecuteTime": {
     "end_time": "2025-03-16T15:45:26.176691Z",
     "start_time": "2025-03-16T15:45:26.140629Z"
    }
   },
   "cell_type": "code",
   "source": [
    "from sklearn.metrics import confusion_matrix, ConfusionMatrixDisplay\n",
    "import numpy as np\n",
    "\n",
    "# Generate the confusion matrix\n",
    "cm = confusion_matrix(y_test, final_predictions, labels=y.unique())\n",
    "\n",
    "# Normalize the confusion matrix by row (true class)\n",
    "cm_normalized = cm.astype('float') #/ cm.sum(axis=1)[:, np.newaxis]\n",
    "\n",
    "disp = ConfusionMatrixDisplay(confusion_matrix=cm_normalized, display_labels=y.unique())\n",
    "plt.figure(figsize=(8, 6))\n",
    "disp.plot(cmap='Blues', values_format='.2f')  # Display values as percentages\n",
    "plt.grid(False)  # Disable the grid\n",
    "plt.title('Normalized Confusion Matrix for Ensemble Model')\n",
    "plt.show()\n",
    "\n"
   ],
   "id": "8705623879d28103",
   "outputs": [
    {
     "ename": "NameError",
     "evalue": "name 'y' is not defined",
     "output_type": "error",
     "traceback": [
      "\u001B[0;31m---------------------------------------------------------------------------\u001B[0m",
      "\u001B[0;31mNameError\u001B[0m                                 Traceback (most recent call last)",
      "Cell \u001B[0;32mIn[16], line 5\u001B[0m\n\u001B[1;32m      2\u001B[0m \u001B[38;5;28;01mimport\u001B[39;00m\u001B[38;5;250m \u001B[39m\u001B[38;5;21;01mnumpy\u001B[39;00m\u001B[38;5;250m \u001B[39m\u001B[38;5;28;01mas\u001B[39;00m\u001B[38;5;250m \u001B[39m\u001B[38;5;21;01mnp\u001B[39;00m\n\u001B[1;32m      4\u001B[0m \u001B[38;5;66;03m# Generate the confusion matrix\u001B[39;00m\n\u001B[0;32m----> 5\u001B[0m cm \u001B[38;5;241m=\u001B[39m confusion_matrix(y_test, final_predictions, labels\u001B[38;5;241m=\u001B[39m\u001B[43my\u001B[49m\u001B[38;5;241m.\u001B[39munique())\n\u001B[1;32m      7\u001B[0m \u001B[38;5;66;03m# Normalize the confusion matrix by row (true class)\u001B[39;00m\n\u001B[1;32m      8\u001B[0m cm_normalized \u001B[38;5;241m=\u001B[39m cm\u001B[38;5;241m.\u001B[39mastype(\u001B[38;5;124m'\u001B[39m\u001B[38;5;124mfloat\u001B[39m\u001B[38;5;124m'\u001B[39m) \u001B[38;5;66;03m#/ cm.sum(axis=1)[:, np.newaxis]\u001B[39;00m\n",
      "\u001B[0;31mNameError\u001B[0m: name 'y' is not defined"
     ]
    }
   ],
   "execution_count": 16
  },
  {
   "metadata": {},
   "cell_type": "code",
   "outputs": [],
   "execution_count": null,
   "source": "",
   "id": "e6beeb1a02669225"
  }
 ],
 "metadata": {
  "kernelspec": {
   "display_name": "Python 3",
   "language": "python",
   "name": "python3"
  },
  "language_info": {
   "codemirror_mode": {
    "name": "ipython",
    "version": 2
   },
   "file_extension": ".py",
   "mimetype": "text/x-python",
   "name": "python",
   "nbconvert_exporter": "python",
   "pygments_lexer": "ipython2",
   "version": "2.7.6"
  }
 },
 "nbformat": 4,
 "nbformat_minor": 5
}
